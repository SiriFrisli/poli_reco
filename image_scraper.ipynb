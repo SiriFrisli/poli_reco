{
 "cells": [
  {
   "cell_type": "markdown",
   "metadata": {},
   "source": [
    "## Code for scraping some images to use as a preliminary test\n"
   ]
  },
  {
   "cell_type": "code",
   "execution_count": 19,
   "metadata": {},
   "outputs": [],
   "source": [
    "import time\n",
    "import os\n",
    "import requests\n",
    "import random\n",
    "from io import BytesIO\n",
    "import numpy as np\n",
    "import matplotlib.pyplot as plt\n",
    "from PIL import Image\n",
    "from tempfile import TemporaryDirectory\n",
    "from bs4 import BeautifulSoup\n",
    "from urllib.parse import quote"
   ]
  },
  {
   "cell_type": "code",
   "execution_count": 2,
   "metadata": {},
   "outputs": [
    {
     "data": {
      "text/plain": [
       "'c:\\\\Users\\\\sirifris\\\\OneDrive - OsloMet\\\\Dokumenter\\\\PHD\\\\Article 3\\\\poli_reco'"
      ]
     },
     "execution_count": 2,
     "metadata": {},
     "output_type": "execute_result"
    }
   ],
   "source": [
    "%pwd"
   ]
  },
  {
   "cell_type": "code",
   "execution_count": 38,
   "metadata": {},
   "outputs": [],
   "source": [
    "politicians = [\n",
    "    'Jonas Gahr Støre',\n",
    "    'Erna Solberg', \n",
    "    'Bent Høie',\n",
    "    'Lan Marie Berg',\n",
    "    'Sylvi Lysthaug',\n",
    "    'Donald Trump',\n",
    "    'Joe Biden'\n",
    "]"
   ]
  },
  {
   "cell_type": "code",
   "execution_count": 31,
   "metadata": {},
   "outputs": [],
   "source": [
    "# # Define the ratio of data for training and validation\n",
    "# train_ratio = 0.8  # 80% for training\n",
    "# val_ratio = 0.2    # 20% for validation\n",
    "\n",
    "# # Create train and val directories\n",
    "# os.makedirs('data/train', exist_ok=True)\n",
    "# os.makedirs('data/val', exist_ok=True)"
   ]
  },
  {
   "cell_type": "code",
   "execution_count": 44,
   "metadata": {},
   "outputs": [],
   "source": [
    "# Iterate over politicians\n",
    "for politician in politicians:\n",
    "    query = f\"{politician}\"\n",
    "    url_template = f\"https://www.google.com/search?q={query}&tbm=isch&start={{}}\"\n",
    "    \n",
    "    # Initialize lists to collect all images\n",
    "    all_img_tags = []\n",
    "\n",
    "    # Fetch images from multiple pages\n",
    "    for start in range(0, 1000, 10):  # Adjust the range as necessary\n",
    "        url = url_template.format(start)\n",
    "        response = requests.get(url)\n",
    "        response.raise_for_status()\n",
    "        soup = BeautifulSoup(response.text, \"html.parser\")\n",
    "        img_tags = soup.find_all(\"img\")\n",
    "        \n",
    "        all_img_tags.extend(img_tags)\n",
    "        \n",
    "        # Stop if we reach the desired number of images\n",
    "        if len(all_img_tags) >= 200:\n",
    "            break\n",
    "\n",
    "    # Create directories for the current politician\n",
    "    os.makedirs(f'data/{politician}', exist_ok=True)\n",
    "\n",
    "    # Save images\n",
    "    for idx, img_tag in enumerate(all_img_tags):\n",
    "        image_url = img_tag.get(\"src\")\n",
    "        if image_url and \"http\" in image_url:\n",
    "            try:\n",
    "                # Download and save the image\n",
    "                img_data = requests.get(image_url).content\n",
    "                img = Image.open(BytesIO(img_data))\n",
    "                img = img.convert(\"RGB\")\n",
    "                img.save(f\"data//{politician}/{politician}_{idx}.jpg\")\n",
    "            except OSError:\n",
    "                print(f\"Error processing image {image_url}\")\n"
   ]
  },
  {
   "cell_type": "code",
   "execution_count": null,
   "metadata": {},
   "outputs": [],
   "source": []
  }
 ],
 "metadata": {
  "kernelspec": {
   "display_name": "poli_reco",
   "language": "python",
   "name": "python3"
  },
  "language_info": {
   "codemirror_mode": {
    "name": "ipython",
    "version": 3
   },
   "file_extension": ".py",
   "mimetype": "text/x-python",
   "name": "python",
   "nbconvert_exporter": "python",
   "pygments_lexer": "ipython3",
   "version": "3.12.8"
  }
 },
 "nbformat": 4,
 "nbformat_minor": 2
}
