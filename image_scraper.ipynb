{
 "cells": [
  {
   "cell_type": "markdown",
   "metadata": {},
   "source": [
    "## Code for scraping some images to use as a preliminary test\n"
   ]
  },
  {
   "cell_type": "code",
   "execution_count": 2,
   "metadata": {},
   "outputs": [],
   "source": [
    "import time\n",
    "import os\n",
    "import requests\n",
    "import random\n",
    "from io import BytesIO\n",
    "import numpy as np\n",
    "import matplotlib.pyplot as plt\n",
    "from PIL import Image\n",
    "from tempfile import TemporaryDirectory\n",
    "from bs4 import BeautifulSoup\n",
    "from urllib.parse import quote"
   ]
  },
  {
   "cell_type": "code",
   "execution_count": 3,
   "metadata": {},
   "outputs": [
    {
     "name": "stdout",
     "output_type": "stream",
     "text": [
      "D:\\Images\\Training_images\n"
     ]
    },
    {
     "name": "stderr",
     "output_type": "stream",
     "text": [
      "c:\\Users\\sirifris\\.conda\\envs\\poli_reco\\lib\\site-packages\\IPython\\core\\magics\\osm.py:417: UserWarning: This is now an optional IPython functionality, setting dhist requires you to install the `pickleshare` library.\n",
      "  self.shell.db['dhist'] = compress_dhist(dhist)[-100:]\n"
     ]
    }
   ],
   "source": [
    "%cd D:\\\\Images\\\\Training_images"
   ]
  },
  {
   "cell_type": "code",
   "execution_count": 4,
   "metadata": {},
   "outputs": [
    {
     "data": {
      "text/plain": [
       "'D:\\\\Images\\\\Training_images'"
      ]
     },
     "execution_count": 4,
     "metadata": {},
     "output_type": "execute_result"
    }
   ],
   "source": [
    "%pwd"
   ]
  },
  {
   "cell_type": "code",
   "execution_count": 9,
   "metadata": {},
   "outputs": [],
   "source": [
    "people = [\n",
    "    # 'Jonas Gahr Støre',\n",
    "    # 'Erna Solberg', \n",
    "    # 'Bent Høie',\n",
    "    # 'Lan Marie Berg',\n",
    "    # 'Sylvi Lysthaug',\n",
    "    # 'Espen Rostrup Nakstad',\n",
    "    # 'Trygve Slagsvold Vedum',\n",
    "    # 'Camilla Stoltenberg',\n",
    "    # 'Fredrik Solvang',\n",
    "    # 'Donald Trump',\n",
    "    # 'Joe Biden',\n",
    "    # 'Anthony Fauci',\n",
    "    # 'Bill Gates',\n",
    "    # 'Random People Walking',\n",
    "    # 'random people',\n",
    "    # 'random facebook post',\n",
    "    # 'random twitter post',\n",
    "    'casual snapshots',\n",
    "    'lifestyle photos',\n",
    "    'everyday moments',\n",
    "    'food photo',\n",
    "    'nature photo'\n",
    "]"
   ]
  },
  {
   "cell_type": "code",
   "execution_count": 10,
   "metadata": {},
   "outputs": [],
   "source": [
    "# Iterate over people\n",
    "for person in people:\n",
    "    query = f\"{person}\"\n",
    "    url_template = f\"https://www.google.com/search?q={query}&tbm=isch&start={{}}\"\n",
    "    \n",
    "    # Initialize lists to collect all images\n",
    "    all_img_tags = []\n",
    "\n",
    "    # Fetch images from multiple pages\n",
    "    for start in range(0, 1000):  # Adjust the range as necessary\n",
    "        url = url_template.format(start)\n",
    "        response = requests.get(url)\n",
    "        response.raise_for_status()\n",
    "        soup = BeautifulSoup(response.text, \"html.parser\")\n",
    "        img_tags = soup.find_all(\"img\")\n",
    "        \n",
    "        all_img_tags.extend(img_tags)\n",
    "        \n",
    "        # Stop if we reach the desired number of images\n",
    "        if len(all_img_tags) >= 600:\n",
    "            break\n",
    "\n",
    "    # Create directories for the current person\n",
    "    os.makedirs(f'data/{person}', exist_ok=True)\n",
    "\n",
    "    # Save images\n",
    "    for idx, img_tag in enumerate(all_img_tags):\n",
    "        image_url = img_tag.get(\"src\")\n",
    "        if image_url and \"http\" in image_url:\n",
    "            try:\n",
    "                # Download and save the image\n",
    "                img_data = requests.get(image_url).content\n",
    "                img = Image.open(BytesIO(img_data))\n",
    "                img = img.convert(\"RGB\")\n",
    "                img.save(f\"data//{person}/{person}_{idx}.jpg\")\n",
    "            except OSError:\n",
    "                print(f\"Error processing image {image_url}\")\n"
   ]
  },
  {
   "cell_type": "code",
   "execution_count": null,
   "metadata": {},
   "outputs": [],
   "source": []
  }
 ],
 "metadata": {
  "kernelspec": {
   "display_name": "poli_reco",
   "language": "python",
   "name": "python3"
  },
  "language_info": {
   "codemirror_mode": {
    "name": "ipython",
    "version": 3
   },
   "file_extension": ".py",
   "mimetype": "text/x-python",
   "name": "python",
   "nbconvert_exporter": "python",
   "pygments_lexer": "ipython3",
   "version": "3.10.16"
  }
 },
 "nbformat": 4,
 "nbformat_minor": 2
}
