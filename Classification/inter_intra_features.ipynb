{
 "cells": [
  {
   "cell_type": "code",
   "execution_count": 1,
   "metadata": {},
   "outputs": [
    {
     "name": "stderr",
     "output_type": "stream",
     "text": [
      "c:\\Users\\sirifris\\.conda\\envs\\poli_reco\\lib\\site-packages\\tqdm\\auto.py:21: TqdmWarning: IProgress not found. Please update jupyter and ipywidgets. See https://ipywidgets.readthedocs.io/en/stable/user_install.html\n",
      "  from .autonotebook import tqdm as notebook_tqdm\n"
     ]
    }
   ],
   "source": [
    "import torch\n",
    "import numpy as np\n",
    "import pandas as pd\n",
    "import easyocr\n",
    "from PIL import Image \n",
    "import transformers\n",
    "from sklearn.model_selection import train_test_split\n",
    "from sklearn.preprocessing import LabelEncoder\n",
    "from sklearn.utils.class_weight import compute_class_weight\n",
    "from imblearn.over_sampling import SMOTE\n",
    "from transformers import CLIPProcessor, CLIPModel, AutoModelForSeq2SeqLM, AutoTokenizer\n",
    "from multilingual_clip import pt_multilingual_clip\n",
    "from sklearn.ensemble import RandomForestClassifier\n",
    "from sklearn.metrics import classification_report\n",
    "\n",
    "import tensorflow as tf\n",
    "from tensorflow.keras.models import Sequential\n",
    "from tensorflow.keras.layers import Dense, Dropout\n",
    "from tensorflow.keras.regularizers import l2\n",
    "\n",
    "from langdetect import detect, DetectorFactory"
   ]
  },
  {
   "cell_type": "code",
   "execution_count": 2,
   "metadata": {},
   "outputs": [
    {
     "name": "stdout",
     "output_type": "stream",
     "text": [
      "cuda\n"
     ]
    }
   ],
   "source": [
    "device = \"cuda\" if torch.cuda.is_available() else \"cpu\"  # Use GPU if available, otherwise fallback to CPU\n",
    "print(device)"
   ]
  },
  {
   "cell_type": "code",
   "execution_count": 3,
   "metadata": {},
   "outputs": [
    {
     "name": "stderr",
     "output_type": "stream",
     "text": [
      "c:\\Users\\sirifris\\.conda\\envs\\poli_reco\\lib\\site-packages\\transformers\\tokenization_utils_base.py:1601: FutureWarning: `clean_up_tokenization_spaces` was not set. It will be set to `True` by default. This behavior will be depracted in transformers v4.45, and will be then set to `False` by default. For more details check this issue: https://github.com/huggingface/transformers/issues/31884\n",
      "  warnings.warn(\n"
     ]
    }
   ],
   "source": [
    "# Load pre-trained CLIP model and processor\n",
    "model_name = \"M-CLIP/XLM-Roberta-Large-Vit-B-32\"\n",
    "clip_text_model = pt_multilingual_clip.MultilingualCLIP.from_pretrained(model_name)\n",
    "clip_tokenizer = transformers.AutoTokenizer.from_pretrained(model_name)\n",
    "\n",
    "clip_model_name = \"openai/clip-vit-base-patch32\"\n",
    "clip_model = CLIPModel.from_pretrained(clip_model_name).eval()\n",
    "clip_processor = CLIPProcessor.from_pretrained(clip_model_name)"
   ]
  },
  {
   "cell_type": "markdown",
   "metadata": {},
   "source": [
    "# Function definitions"
   ]
  },
  {
   "cell_type": "code",
   "execution_count": 4,
   "metadata": {},
   "outputs": [],
   "source": [
    "def get_text_features(text):\n",
    "    \"\"\"Extracts text features using M-CLIP/XLM-Roberta-Large-Vit-B-32 with robust tokenization and truncation.\"\"\"\n",
    "    try:\n",
    "        # Tokenize the text to check the number of tokens\n",
    "        tokenized_text = clip_tokenizer(text, return_tensors=\"pt\")\n",
    "        \n",
    "        # Check if the number of tokens exceeds the model's limit of 514\n",
    "        if len(tokenized_text[\"input_ids\"][0]) > 514:\n",
    "            print(f\"⚠️ Text exceeds 514 tokens. Truncating: {text[:100]}...\")  # Log original text (first 100 chars)\n",
    "            \n",
    "            # Truncate the raw text to the max length by decoding the first 514 tokens and re-encoding\n",
    "            truncated_tokens = tokenized_text[\"input_ids\"][0][:513]\n",
    "            truncated_text = clip_tokenizer.decode(truncated_tokens, skip_special_tokens=True)\n",
    "\n",
    "            # Double check that the truncated text isn't empty\n",
    "            if not truncated_text:\n",
    "                truncated_text = text[:100]  # Just keep the first 100 characters if truncation fails\n",
    "            print(f\"⚠️ Text truncated to: {truncated_text[:100]}...\")  # Log truncated text (first 100 chars)\n",
    "        else:\n",
    "            truncated_text = text  # No truncation needed, keep the original text\n",
    "        \n",
    "        # Pass the (possibly truncated) raw text to the model for feature extraction\n",
    "        text_features = clip_text_model.forward([truncated_text], clip_tokenizer)\n",
    "        \n",
    "        return text_features.squeeze().detach().cpu().numpy()\n",
    "\n",
    "    except Exception as e:\n",
    "        print(f\"⚠️ Error extracting text features: {e}\")\n",
    "        return None  # Return None for failed cases\n"
   ]
  },
  {
   "cell_type": "code",
   "execution_count": 5,
   "metadata": {},
   "outputs": [],
   "source": [
    "# def get_text_features(text):\n",
    "#     \"\"\"Extracts text features using M-CLIP/XLM-Roberta-Large-Vit-B-32.\"\"\"\n",
    "#     try:\n",
    "#         text_features = clip_text_model.forward([text], clip_tokenizer)\n",
    "#         return text_features.squeeze().detach().cpu().numpy()  # Convert tensor to numpy array\n",
    "#     except Exception as e:\n",
    "#         print(f\"⚠️ Error extracting text features: {e}\")\n",
    "#         return None"
   ]
  },
  {
   "cell_type": "code",
   "execution_count": 6,
   "metadata": {},
   "outputs": [
    {
     "name": "stderr",
     "output_type": "stream",
     "text": [
      "c:\\Users\\sirifris\\.conda\\envs\\poli_reco\\lib\\site-packages\\easyocr\\detection.py:85: FutureWarning: You are using `torch.load` with `weights_only=False` (the current default value), which uses the default pickle module implicitly. It is possible to construct malicious pickle data which will execute arbitrary code during unpickling (See https://github.com/pytorch/pytorch/blob/main/SECURITY.md#untrusted-models for more details). In a future release, the default value for `weights_only` will be flipped to `True`. This limits the functions that could be executed during unpickling. Arbitrary objects will no longer be allowed to be loaded via this mode unless they are explicitly allowlisted by the user via `torch.serialization.add_safe_globals`. We recommend you start setting `weights_only=True` for any use case where you don't have full control of the loaded file. Please open an issue on GitHub for any issues related to this experimental feature.\n",
      "  net.load_state_dict(copyStateDict(torch.load(trained_model, map_location=device)))\n",
      "c:\\Users\\sirifris\\.conda\\envs\\poli_reco\\lib\\site-packages\\easyocr\\recognition.py:182: FutureWarning: You are using `torch.load` with `weights_only=False` (the current default value), which uses the default pickle module implicitly. It is possible to construct malicious pickle data which will execute arbitrary code during unpickling (See https://github.com/pytorch/pytorch/blob/main/SECURITY.md#untrusted-models for more details). In a future release, the default value for `weights_only` will be flipped to `True`. This limits the functions that could be executed during unpickling. Arbitrary objects will no longer be allowed to be loaded via this mode unless they are explicitly allowlisted by the user via `torch.serialization.add_safe_globals`. We recommend you start setting `weights_only=True` for any use case where you don't have full control of the loaded file. Please open an issue on GitHub for any issues related to this experimental feature.\n",
      "  model.load_state_dict(torch.load(model_path, map_location=device))\n"
     ]
    }
   ],
   "source": [
    "# EasyOCR for OCR\n",
    "reader = easyocr.Reader([\"no\", \"en\"])  # Norwegian and English, because there's some mixing of the languages\n",
    "\n",
    "def extract_text_easyocr(image_path):\n",
    "    \"\"\"Extracts text from an image using EasyOCR.\"\"\"\n",
    "    try:\n",
    "        results = reader.readtext(image_path, detail=0)  # Extract text without coordinates\n",
    "        return \" \".join(results)  # Join extracted words into a single string\n",
    "    except Exception as e:\n",
    "        print(f\"⚠️ OCR failed for {image_path}: {e}\")\n",
    "        return \"\""
   ]
  },
  {
   "cell_type": "code",
   "execution_count": 7,
   "metadata": {},
   "outputs": [],
   "source": [
    "# Function to extract image features\n",
    "def get_image_features(image_path):\n",
    "    \"\"\"Extracts image embeddings from CLIP.\"\"\"\n",
    "    image = Image.open(image_path).convert(\"RGB\")\n",
    "    inputs = clip_processor(images=image, return_tensors=\"pt\")\n",
    "    with torch.no_grad():\n",
    "        image_features = clip_model.get_image_features(**inputs)\n",
    "    return image_features.cpu().numpy()"
   ]
  },
  {
   "cell_type": "markdown",
   "metadata": {},
   "source": [
    "# Feature extraction"
   ]
  },
  {
   "cell_type": "code",
   "execution_count": 8,
   "metadata": {},
   "outputs": [],
   "source": [
    "# loading the data\n",
    "df = pd.read_excel(\"E:/sample_images_merged.xlsx\")\n",
    "# Fix the labels, 0=non humor, 1=humor\n",
    "df[\"label\"] = df[\"label\"].apply(lambda x: 1 if x > 0 else 0)\n",
    "df[\"image_path_image_filename_image_1\"] = df[\"image_path_image_filename_image_1\"].str.replace(r\"^D:/\", \"E:/\", regex=True)"
   ]
  },
  {
   "cell_type": "code",
   "execution_count": 9,
   "metadata": {},
   "outputs": [
    {
     "name": "stderr",
     "output_type": "stream",
     "text": [
      "c:\\Users\\sirifris\\.conda\\envs\\poli_reco\\lib\\site-packages\\PIL\\Image.py:1054: UserWarning: Palette images with Transparency expressed in bytes should be converted to RGBA images\n",
      "  warnings.warn(\n",
      "c:\\Users\\sirifris\\.conda\\envs\\poli_reco\\lib\\site-packages\\PIL\\Image.py:1054: UserWarning: Palette images with Transparency expressed in bytes should be converted to RGBA images\n",
      "  warnings.warn(\n"
     ]
    }
   ],
   "source": [
    "# Extract text from images\n",
    "import PIL\n",
    "PIL.Image.ANTIALIAS = PIL.Image.LANCZOS\n",
    "df[\"image_text\"] = df[\"image_path_image_filename_image_1\"].apply(extract_text_easyocr)"
   ]
  },
  {
   "cell_type": "code",
   "execution_count": 10,
   "metadata": {},
   "outputs": [
    {
     "name": "stdout",
     "output_type": "stream",
     "text": [
      "768\n"
     ]
    }
   ],
   "source": [
    "print((df[\"image_text\"] == \"\").sum())"
   ]
  },
  {
   "cell_type": "code",
   "execution_count": 11,
   "metadata": {},
   "outputs": [
    {
     "name": "stdout",
     "output_type": "stream",
     "text": [
      "3251    E:/Images/Covid/images_2/ElaqQpdXIAU4K2h.png\n",
      "1401    E:/Images/Covid/images_2/EiWo7-GWkAAVzPE.jpg\n",
      "3066    E:/Images/Covid/images_1/EYSssVQWsAUBPHl.jpg\n",
      "3355    E:/Images/Covid/images_2/EsKqTHrXYAEH64r.jpg\n",
      "2131    E:/Images/Covid/images_1/E6r5ml_XoAYkwZp.jpg\n",
      "Name: image_path_image_filename_image_1, dtype: object\n"
     ]
    }
   ],
   "source": [
    "df_no_text = df[df[\"image_text\"] == \"\"]\n",
    "\n",
    "# Select a few random examples (change `n` as needed)\n",
    "print(df_no_text[\"image_path_image_filename_image_1\"].sample(n=5, random_state=42))"
   ]
  },
  {
   "cell_type": "code",
   "execution_count": 12,
   "metadata": {},
   "outputs": [],
   "source": [
    "DetectorFactory.seed = 0\n",
    "\n",
    "def filter_image_text_by_language(text):\n",
    "    \"\"\"Filter out texts that are neither Norwegian nor English.\"\"\"\n",
    "    try:\n",
    "        # Detect the language of the text\n",
    "        lang = detect(text)\n",
    "        # Only keep Norwegian (no) or English (en) texts\n",
    "        if lang not in ['no', 'en']:\n",
    "            return \"\"  # Return empty string if text is not in Norwegian or English\n",
    "        else:\n",
    "            return text  # Return original text if it's Norwegian or English\n",
    "    except Exception as e:\n",
    "        return \"\"  # Return empty string for errors\n",
    "\n",
    "df[\"filtered_image_text\"] = df[\"image_text\"].apply(filter_image_text_by_language)"
   ]
  },
  {
   "cell_type": "code",
   "execution_count": 13,
   "metadata": {},
   "outputs": [
    {
     "name": "stdout",
     "output_type": "stream",
     "text": [
      "1708\n"
     ]
    }
   ],
   "source": [
    "# Check how many texts were filtered out (replaced with empty string)\n",
    "print(df[\"filtered_image_text\"].apply(lambda x: x == \"\").sum())"
   ]
  },
  {
   "cell_type": "code",
   "execution_count": 16,
   "metadata": {},
   "outputs": [
    {
     "name": "stdout",
     "output_type": "stream",
     "text": [
      "6                                              1o 12 20\n",
      "7            S MI TTETILFELLER KLAS S ETRINN KARA NTENE\n",
      "8                                                   hnn\n",
      "10    ioooe -charts com Greece Antal døde opgjort pr...\n",
      "13                                                     \n",
      "16                                                     \n",
      "17                                                (eo7n\n",
      "19                                                  7al\n",
      "22                 ZIONS ANI JaZZ CORONAVIRUS CHALLENGE\n",
      "23                                                     \n",
      "25                                                IIF9K\n",
      "29    Kan BIBELFORSKNINGEN OG Kir k e n s f 0 r ky n...\n",
      "32                                                     \n",
      "34                                Gymleco 20 02 69 0316\n",
      "36                                                IIF9K\n",
      "37                                                     \n",
      "38                                                IIF9K\n",
      "40                                                     \n",
      "41    14.august døde: MatC Mars 2pr 20.apr. 4-Mzi 18...\n",
      "45                                                 Jelk\n",
      "Name: image_text, dtype: object\n"
     ]
    }
   ],
   "source": [
    "print(df[df[\"filtered_image_text\"] == \"\"][\"image_text\"].head(20))"
   ]
  },
  {
   "cell_type": "code",
   "execution_count": 17,
   "metadata": {},
   "outputs": [
    {
     "name": "stderr",
     "output_type": "stream",
     "text": [
      "Token indices sequence length is longer than the specified maximum sequence length for this model (589 > 512). Running this sequence through the model will result in indexing errors\n"
     ]
    },
    {
     "name": "stdout",
     "output_type": "stream",
     "text": [
      "⚠️ Text exceeds 514 tokens. Truncating: ENTSO-E TYNDP 2022 System Needs Study July 2022 version for public consultation M5 nnl Additional ca...\n",
      "⚠️ Text truncated to: ENTSO-E TYNDP 2022 System Needs Study July 2022 version for public consultation M5 nnl Additional ca...\n",
      "⚠️ Error extracting text features: index out of range in self\n",
      "⚠️ Text exceeds 514 tokens. Truncating: Jonas Stein Publisert av Jonas Stein 31 min POLITISK DRAMA ORDENTLIG TROMSØ-STIL Mens resten av det ...\n",
      "⚠️ Text truncated to: Jonas Stein Publisert av Jonas Stein 31 min POLITISK DRAMA ORDENTLIG TROMSØ-STIL Mens resten av det ...\n",
      "⚠️ Text exceeds 514 tokens. Truncating: Telia N 11:41 4 38 % Lukk NYTTLUKSUSMERKE TIL NORGE Skal åpne Chanel- butikk i Oslo 5 GUCo Slår opp ...\n",
      "⚠️ Text truncated to: Telia N 11:41 4 38 % Lukk NYTTLUKSUSMERKE TIL NORGE Skal åpne Chanel- butikk i Oslo 5 GUCo Slår opp ...\n",
      "⚠️ Error extracting text features: index out of range in self\n",
      "⚠️ Text exceeds 514 tokens. Truncating: thebmj   Visual summary Covid-19: remote consultations Version 1,2 25 Mar 2020 A quick guide to asse...\n",
      "⚠️ Text truncated to: thebmj Visual summary Covid-19: remote consultations Version 1,2 25 Mar 2020 A quick guide to assess...\n",
      "⚠️ Error extracting text features: index out of range in self\n",
      "⚠️ Text exceeds 514 tokens. Truncating: Om Noe Også blir omtrent krever at 'sett sittet inne, luft bare praktisert være tillatt de på utside...\n",
      "⚠️ Text truncated to: Om Noe Også blir omtrent krever at'sett sittet inne, luft bare praktisert være tillatt de på utsiden...\n",
      "⚠️ Error extracting text features: index out of range in self\n",
      "⚠️ Text exceeds 514 tokens. Truncating: Jan Hanvold 13 t . @ Idag har jeg kost meg på ski på Geilo. Og hatt mange henvendelser ifra journali...\n",
      "⚠️ Text truncated to: Jan Hanvold 13 t. @ Idag har jeg kost meg på ski på Geilo. Og hatt mange henvendelser ifra journalis...\n",
      "⚠️ Error extracting text features: index out of range in self\n",
      "⚠️ Text exceeds 514 tokens. Truncating: United States Patent Patent No: US 10.130,701 B2 Bickerton cl al Datc of Patent: Nov . 20. 2018 (uRO...\n",
      "⚠️ Text truncated to: United States Patent Patent No: US 10.130,701 B2 Bickerton cl al Datc of Patent: Nov. 20. 2018 (uROS...\n",
      "⚠️ Text exceeds 514 tokens. Truncating: LoRDAG 12 OKTOULR 2019 EQUINOR OVERLEVERER PUD FORHYWIND TAMPEI 5J1 beste fall i null Nom ENERGI: Eq...\n",
      "⚠️ Text truncated to: LoRDAG 12 OKTOULR 2019 EQUINOR OVERLEVERER PUD FORHYWIND TAMPEI 5J1 beste fall i null Nom ENERGI: Eq...\n",
      "⚠️ Error extracting text features: index out of range in self\n",
      "⚠️ Text exceeds 514 tokens. Truncating: Debatt&-meninger 27 Den nordnorske identitetsmaskinen Medierevisjonen INord-Norge energi. Og den som...\n",
      "⚠️ Text truncated to: Debatt&-meninger 27 Den nordnorske identitetsmaskinen Medierevisjonen INord-Norge energi. Og den som...\n",
      "⚠️ Error extracting text features: index out of range in self\n",
      "⚠️ Text exceeds 514 tokens. Truncating: 10.5 Anbefalt strategi for 2020-2021 Det overordnede målet bør være at sykdomsbyrden av epidemien sk...\n",
      "⚠️ Text truncated to: 10.5 Anbefalt strategi for 2020-2021 Det overordnede målet bør være at sykdomsbyrden av epidemien sk...\n",
      "⚠️ Error extracting text features: index out of range in self\n",
      "⚠️ Text exceeds 514 tokens. Truncating: Hvorfor har norsk presse vært så tafatt med å følge pande miens konsekvenser andre steder verden? Et...\n",
      "⚠️ Text truncated to: Hvorfor har norsk presse vært så tafatt med å følge pande miens konsekvenser andre steder verden? Et...\n",
      "⚠️ Error extracting text features: index out of range in self\n",
      "⚠️ Text exceeds 514 tokens. Truncating: Bjørn Druglimo Rotarysnut og Hovedvernombud Sør-Øst politidistrikt Norges Politi har ikke Elitens li...\n",
      "⚠️ Text truncated to: Bjørn Druglimo Rotarysnut og Hovedvernombud Sør-Øst politidistrikt Norges Politi har ikke Elitens li...\n",
      "⚠️ Error extracting text features: index out of range in self\n",
      "⚠️ Text exceeds 514 tokens. Truncating: 1ibalte 6Wiek caun hefur þao ormneo 381 u Pionustab Ynw etlon vloao koma VCk booburoum sem skipulagð...\n",
      "⚠️ Text truncated to: 1ibalte 6Wiek caun hefur þao ormneo 381 u Pionustab Ynw etlon vloao koma VCk booburoum sem skipulagð...\n",
      "⚠️ Error extracting text features: index out of range in self\n",
      "⚠️ Text exceeds 514 tokens. Truncating: Pesifes\"ssienskaoset koronaviruset o Hwkohunlkknor 1akv a (K(e k NoL al [uionrnorikn LAn U s ruik ne...\n",
      "⚠️ Text truncated to: Pesifes\"ssienskaoset koronaviruset o Hwkohunlkknor 1akv a (K(e k NoL al [uionrnorikn LAn U s ruik ne...\n",
      "⚠️ Error extracting text features: index out of range in self\n",
      "⚠️ Text exceeds 514 tokens. Truncating: Table 2. Excess All-Cause Mortality in the US Compared With That in Other Countries' Excess all-caus...\n",
      "⚠️ Text truncated to: Table 2. Excess All-Cause Mortality in the US Compared With That in Other Countries' Excess all-caus...\n",
      "⚠️ Text exceeds 514 tokens. Truncating: Covid-19 Ukerapport - uke 41 fhi.no Tabell 6. Antall dager mellom prøvetakingsdato 0g registreringsd...\n",
      "⚠️ Text truncated to: Covid-19 Ukerapport - uke 41 fhi.no Tabell 6. Antall dager mellom prøvetakingsdato 0g registreringsd...\n",
      "⚠️ Error extracting text features: index out of range in self\n",
      "⚠️ Text exceeds 514 tokens. Truncating: Table 1.1. Overview of the World Economic Outlook Projections (Percent change, unless noted otherwis...\n",
      "⚠️ Text truncated to: Table 1.1. Overview of the World Economic Outlook Projections (Percent change, unless noted otherwis...\n",
      "⚠️ Text exceeds 514 tokens. Truncating: T [Korona covid-19 ] Reiser innenlands Ankomst Norge Restauranter, kafcer, barer Unngå unødvendige r...\n",
      "⚠️ Text truncated to: T [Korona covid-19 ] Reiser innenlands Ankomst Norge Restauranter, kafcer, barer Unngå unødvendige r...\n",
      "⚠️ Text exceeds 514 tokens. Truncating: \"COMMUNIST COERCIVE METHODS FOR ELICITING INDIVIDUAL COMPLIANCE\" : The Biderman Report of 1956 and C...\n",
      "⚠️ Text truncated to: \"COMMUNIST COERCIVE METHODS FOR ELICITING INDIVIDUAL COMPLIANCE\" : The Biderman Report of 1956 and C...\n",
      "⚠️ Error extracting text features: index out of range in self\n",
      "⚠️ Text exceeds 514 tokens. Truncating: Paeliminary Ruunl Main RoUND FinalWeehenu Aaarus Precictthevinner each ofthe 24 Games inthe Prellmin...\n",
      "⚠️ Text truncated to: Paeliminary Ruunl Main RoUND FinalWeehenu Aaarus Precictthevinner each ofthe 24 Games inthe Prellmin...\n",
      "⚠️ Error extracting text features: index out of range in self\n",
      "⚠️ Text exceeds 514 tokens. Truncating: the winter NHS narrative Guhaian 2012 2013 2014 2015 Fuhllesensicespolloy Hospitals 'fulltobursting'...\n",
      "⚠️ Text truncated to: the winter NHS narrative Guhaian 2012 2013 2014 2015 Fuhllesensicespolloy Hospitals 'fulltobursting'...\n",
      "⚠️ Error extracting text features: index out of range in self\n",
      "⚠️ Text exceeds 514 tokens. Truncating: ons mar ıkk Side 8-9av 32 @E 888 @ Q Villsmitte i Østre Toten - strengere krav innført Unødvendig br...\n",
      "⚠️ Text truncated to: ons mar ıkk Side 8-9av 32 @E 888 @ Q Villsmitte i Østre Toten - strengere krav innført Unødvendig br...\n",
      "⚠️ Error extracting text features: index out of range in self\n",
      "⚠️ Text exceeds 514 tokens. Truncating: 96 Informasjon Informasjon Minc filer Sist oppatcrt; 3003,2021 Dlgital hemmeoppfoiging Osio komimune...\n",
      "⚠️ Text truncated to: 96 Informasjon Informasjon Minc filer Sist oppatcrt; 3003,2021 Dlgital hemmeoppfoiging Osio komimune...\n",
      "⚠️ Error extracting text features: index out of range in self\n",
      "⚠️ Text exceeds 514 tokens. Truncating: #Read CSV [l ; covidshipping-read_ csv(\"covidshippingcsv\" header=TRUE sep= dec = covidseafood=read.c...\n",
      "⚠️ Text truncated to: #Read CSV [l ; covidshipping-read_ csv(\"covidshippingcsv\" header=TRUE sep= dec = covidseafood=read.c...\n",
      "⚠️ Text exceeds 514 tokens. Truncating: Arsrapport 2020 Folkchelseinsulultet Bevilgningsandelen sier noe om hvor stor andel av instituttets ...\n",
      "⚠️ Text truncated to: Arsrapport 2020 Folkchelseinsulultet Bevilgningsandelen sier noe om hvor stor andel av instituttets ...\n",
      "⚠️ Error extracting text features: index out of range in self\n",
      "⚠️ Text exceeds 514 tokens. Truncating: Covid-19 Ukerapport uke 47 fhi.no Figur 8 viser utviklingen kombinert insidens av sykehusinnleggelse...\n",
      "⚠️ Text truncated to: Covid-19 Ukerapport uke 47 fhi.no Figur 8 viser utviklingen kombinert insidens av sykehusinnleggelse...\n",
      "⚠️ Text exceeds 514 tokens. Truncating: legemiddelverket.no/Docum  Meldte mistenkte bivirk.. https:llegemiddelverk . X Tabell 2: Meldinger f...\n",
      "⚠️ Text truncated to: legemiddelverket.no/Docum Meldte mistenkte bivirk.. https:llegemiddelverk. X Tabell 2: Meldinger for...\n",
      "⚠️ Error extracting text features: index out of range in self\n",
      "⚠️ Text exceeds 514 tokens. Truncating: Disse organisasjonene ble som kjent grunnlagt av Bill Gates; og det er også han som kontrollerer dem...\n",
      "⚠️ Text truncated to: Disse organisasjonene ble som kjent grunnlagt av Bill Gates; og det er også han som kontrollerer dem...\n",
      "⚠️ Error extracting text features: index out of range in self\n",
      "⚠️ Text exceeds 514 tokens. Truncating: Covid-19 er ikke den eneste epidemien Så hva gjpres? Svaret er: Autvikle og produsere nye og vedlike...\n",
      "⚠️ Text truncated to: Covid-19 er ikke den eneste epidemien Så hva gjpres? Svaret er: Autvikle og produsere nye og vedlike...\n",
      "⚠️ Error extracting text features: index out of range in self\n",
      "⚠️ Text exceeds 514 tokens. Truncating: Spår nullvekst og enorme sosiale følger i Tyskland: Sårbar kjempe KRISE: EUs største økonomi står ov...\n",
      "⚠️ Text truncated to: Spår nullvekst og enorme sosiale følger i Tyskland: Sårbar kjempe KRISE: EUs største økonomi står ov...\n",
      "⚠️ Error extracting text features: index out of range in self\n",
      "⚠️ Text exceeds 514 tokens. Truncating: et Js - al at og g En nytt er; 0g vis det de nar 0g sier 0g til å de Det er ser ut til at Var at den...\n",
      "⚠️ Text truncated to: et Js - al at og g En nytt er; 0g vis det de nar 0g sier 0g til å de Det er ser ut til at Var at den...\n",
      "⚠️ Error extracting text features: index out of range in self\n",
      "⚠️ Text exceeds 514 tokens. Truncating: Ridkae Oalcn ne  Sck / Wkidpdil T-skjorte FovkCao Micykou esk orte Ttroy( sknne Irere [ed felle Ilii...\n",
      "⚠️ Text truncated to: Ridkae Oalcn ne Sck / Wkidpdil T-skjorte FovkCao Micykou esk orte Ttroy( sknne Irere [ed felle Iliie...\n",
      "⚠️ Error extracting text features: index out of range in self\n",
      "⚠️ Text exceeds 514 tokens. Truncating: Table 1. Epidemiologic setting and vaccine supply scenarios, and recommendations for priority use ca...\n",
      "⚠️ Text truncated to: Table 1. Epidemiologic setting and vaccine supply scenarios, and recommendations for priority use ca...\n",
      "⚠️ Text exceeds 514 tokens. Truncating: 1| + of 8 Automatic Zoom hos Foucault DrOVOSCIL De som hans vart verdsett med kun ville sc nylibe- A...\n",
      "⚠️ Text truncated to: 1| + of 8 Automatic Zoom hos Foucault DrOVOSCIL De som hans vart verdsett med kun ville sc nylibe- A...\n",
      "⚠️ Error extracting text features: index out of range in self\n",
      "⚠️ Text exceeds 514 tokens. Truncating: INSIGHTS inelusivu bruexvertisesubieot LETTERS independent uversight, and respnsibly manlaged Unnrt ...\n",
      "⚠️ Text truncated to: INSIGHTS inelusivu bruexvertisesubieot LETTERS independent uversight, and respnsibly manlaged Unnrt ...\n",
      "⚠️ Text exceeds 514 tokens. Truncating: NYHETER Muxto NI 2021 Mbkcokcurila Morten (17): - Jeg Pobuhıemmckendet noxUs Dete har tatt alle andr...\n",
      "⚠️ Text truncated to: NYHETER Muxto NI 2021 Mbkcokcurila Morten (17): - Jeg Pobuhıemmckendet noxUs Dete har tatt alle andr...\n",
      "⚠️ Error extracting text features: index out of range in self\n",
      "⚠️ Text exceeds 514 tokens. Truncating: 05 5  Q Tabell 1. Aktuelle alternativer [ situasjon, Inkludert bruk soronasertigkat Artcrnati Smttcy...\n",
      "⚠️ Text truncated to: 05 5 Q Tabell 1. Aktuelle alternativer [ situasjon, Inkludert bruk soronasertigkat Artcrnati Smttcyn...\n",
      "⚠️ Error extracting text features: index out of range in self\n",
      "⚠️ Text exceeds 514 tokens. Truncating: 19*29 man. 27, des. 0 46 % lovdata no LOVDATA Søk etter lover; forskrifter; dommer; stortingsvedtak;...\n",
      "⚠️ Text truncated to: 19*29 man. 27, des. 0 46 % lovdata no LOVDATA Søk etter lover; forskrifter; dommer; stortingsvedtak;...\n",
      "⚠️ Error extracting text features: index out of range in self\n",
      "⚠️ Text exceeds 514 tokens. Truncating: FLCCC FRONT LINE COVID-19 CRITICAL CARE ALLIANCE PREVENTION & TREATMENT PROTOCOLS FOR COVID-19 L L |...\n",
      "⚠️ Text truncated to: FLCCC FRONT LINE COVID-19 CRITICAL CARE ALLIANCE PREVENTION & TREATMENT PROTOCOLS FOR COVID-19 L L |...\n",
      "⚠️ Error extracting text features: index out of range in self\n",
      "⚠️ Text exceeds 514 tokens. Truncating: 19 32 Oaterenreinoyury 0yd6o a 204 [ Oalotvn sro derihost Fohadn ; Medjes Lr, 5i0a3s monge kon u nor...\n",
      "⚠️ Text truncated to: 19 32 Oaterenreinoyury 0yd6o a 204 [ Oalotvn sro derihost Fohadn ; Medjes Lr, 5i0a3s monge kon u nor...\n",
      "⚠️ Error extracting text features: index out of range in self\n",
      "⚠️ Text exceeds 514 tokens. Truncating: Supplementary Table Demographic and health characteristics of those with non-infected control group ...\n",
      "⚠️ Text truncated to: Supplementary Table Demographic and health characteristics of those with non-infected control group ...\n",
      "⚠️ Error extracting text features: index out of range in self\n"
     ]
    }
   ],
   "source": [
    "df[\"image_text_features\"] = df[\"filtered_image_text\"].apply(get_text_features)"
   ]
  },
  {
   "cell_type": "code",
   "execution_count": 21,
   "metadata": {},
   "outputs": [
    {
     "name": "stdout",
     "output_type": "stream",
     "text": [
      "Observation 153:\n",
      "Original Text (filtered_image_text): ENTSO-E TYNDP 2022 System Needs Study July 2022 version for public consultation M5 nnl Additional capacity increases and flexibility assets by 2040 bring economic benefits and support security of supply By 2040,88 GW of additional cross-border capacity 20 Bn € /year for storage and 0.1 Bn €/year for peaking increases with respect to 2025 grid, 41 GW of units) The increase socio-economic welfare storage and GW of CO,-free peaking units would amounts to billion euro/year until 2040. Addressing be needed to support Europes move towards needs would also improve security of electricity supply carbon-free power system and ensure continuous as energy-not-served would be cut by 1.72 TWh/year. and cost-effective access to ectricity. With regards This in turn would increase socio-economic welfare cross-border capacity this represents 24 GW even further of additional cross-border capacity increases on In 2040 the highest needs for capacity increases top of the increases identified for 2030, therefore remain on UK-continent borders, on French borders confirming the required strong needs for cross and accommodate flows between South-Eastern border capacıty developments horizons 2030 and and Central Europe; from Turkey through the Balkan 2040. Peninsula all the way to Czech Republic. In most The 41 GW of (battery) storage capacity needed of western and central Europe these capacity add up to the 126 GW battery storage available increases are completed by storage flexibility; with in 2030 (National Trends scenario). All storage highest needs Spain, Germany; Portugal and technologies combined; the total storage capacity Hungary; and to much smaller extent by peaking 2040 amounts to 174GW. flexibility in Hungary and Poland.There also Addressing the identified needs represent an invest- significant increase in needs after 2030 on Italian ment of 6 billion euro/year between 2025 and 2040 borders and on borders between Scandinavian (3.5 Bn €/year for cross-border capacity increases, countries and mainland Europe. System needs are additional to the development of flexibility assets by 2030 and 2040 New challenges brought by the evolution of generation increases by 34 GW, Demand Side Response by 17 GW and portfolios are already partially covered within the National Power-to-Gas by 96 GW. System needs go beyond this point in Trends scenarios (based on National and Climate order to provide secure; cheap and decarbonized electricity Plans) by an increase of assets that provide flexibility t0 the at all times and in all places. systemIndeed, from 2025 2040 battery capacity in the EU Italy; Energy\n",
      "{0}\n",
      "==================================================\n",
      "Observation 262:\n",
      "Original Text (filtered_image_text): Telia N 11:41 4 38 % Lukk NYTTLUKSUSMERKE TIL NORGE Skal åpne Chanel- butikk i Oslo 5 GUCo Slår opp dørene til neste år HANDEL: Iløpet av 2021 skal franske Chanel etter planen åpne sin første butikk i Norge, luksusstrøket ved Egertorget i Oslo. afaneo Dyuger om 05 sclzer? anu nen stod paadros sakyrfontrunu Mrarlddgts anaharrit4 Jdncn moaaatouchngiporln omnootannndt Uliondindroebngasu UutlkKiOek aeikereanir< Dvusubburilemouaauf Irprcatbkkrskalurnerlak storcluksusk rdrr har (unnrt Urdelr ai Chanlskal UlaeMcyrr Ikramananskrra Vann eahepaksorainer lanetawMer [ekk usaan edotklran Afolde Warehid (laeicnc Langvarif pfosess butıkkıNodrı Slotuootaju Sui Iloknleno udonoyDa Velntrenharmidlerudıkko aat te Karuchana hornot avKarl Johanslaloor nkeorPoinennleh Fennes uralian sdreore Biyarhgearkl n nnoutloehlp-bulikk Hull [rklchcaaeruiechibeluiru Ifolee ınformasjon fradet kotmorkoronakalinn kom pckommut orefafostzann morikanake (ondcrMeyar Ikkc Ircm Cnkallc Aofn1n snlonrik Vanceotercuanaicrichyygleriiee Drleloobirr-ellomboilongon Keennni Tnrelendoin Arntenn LouVton Sukhchndhn[nkkebl 201609701/comhoknti Slesuclerebonuln crngbulillci \"lnionioniloiskohoia bonallorgoharulytuetloru (nolut nadenMlanacemant ckalden anncrionrdet mulir llereon mkeole beden 1an2ol5 sorhesefamilluarcleı Elindipromcnadenala Iranskomot\"ciantehob ( lutaker caaolilnoeilyuo Khuteta rlcalial 0-pont tPinane corana PCaplonr ononinnn en har0nn [a1 apnC Deteirifcttlovcnftracnla Uefhaal Darie Suffnasigenor Hr 'parnorne Hupar ukauabulikkeNcdr< Kaorkuuncutulamnt sonlondletsreulesenlalefhol Skalbve ohoniproll- Vine Eakkduneceflans Slottseale men prNdae 16 tieivdommersIrAlOslosen Aanrosk ulue fan PsttvrKrohnstud stonbak knvidossvnaikkabekrnta hun ptrahtkokradnn ricnavnarnlcr r toaicradcrak Eltinug hukremcrkodcuchuerllar Fondcharona aei Iretleut apuinicuus u Jacialobnicer I& STRØM Wos ISTEEN\n",
      "{0}\n",
      "==================================================\n",
      "Observation 281:\n",
      "Original Text (filtered_image_text): thebmj   Visual summary Covid-19: remote consultations Version 1,2 25 Mar 2020 A quick guide to assessing patients by video or voice call This graphic, intended for use in primary care setting is based on Clinical data available in March 2020 much of which is from hospital characteristics settings in China, It will be revised as more relevant data emerges Based on 1099 hospitalised patients Set up Have current 'stay Video is useful for Scan medical record for risk factors such as; in Wuhan; China and at home' covid-19 Severe lllness Diabetes Pregnangu Smoking Prepare yourself guidance hand Cough decide how to Anyious patients  Chronic kidney orliver disease COPD connect UK government advice: Comorbidities Steroids or other immunosuppressants http:/ /bitIy/ukgovisol ] Hard of hearing  Cardiovascular disease Asthma 229 Temperature 37.5-38 C 228 Temperature P38*C Connect Check video Confim the Check where Note patient's phone number and audio patient s patient is in case connection fails 388 Fatigue Make video link if identity possible; otherwise Can you Where callonthe phone hear see Name arevou If possible; ensure the Sputum ngnt now? Date ofbirth patient has privacy Shortness of breath Get started Rapid assessment Establish what the patient wants Muscle aches Ifthey sound or look very sick out of the consultation, such as; Quickly assess suchas too breathless to talk  Cinicalassesseng Reteual Ceilcate  whether sick Sore throat go dlrect to key clinical questions Reassurance Advice on selfisolation ofless SICk Headache History Contacts Most common presentation Chills Adapt questions Close contact with Couep Fatleue Fever Short ofbreath patient's own medical known covid-19 case Nasal history Immediate family History of Coughis Up to 50% of congestion member unwell current illness usually dry but patients do not Date offrst sputumıs not havefever at Nausea Occupational vomiting risk Eroup symptoms uncommon presentation Diarrhoea Examination Over phone; ask carer Over video, Check respiratory function - inability to talk 74 / Any comorbidity or patient to describe: look tor in tull sentences is commonin severe illness Assess physical and mental function State of breating General How oisc Wnat does best as you can Colour of face demeanour 15Voug today than your breathlessness Red flags breathing? vesterday: Dreventyou doing? andlips Skin colour, Covid-19: Patient may be able to take Temperature Pulse Interpret self monitoring results Severe shortness ouoreatn attest their own measurements if Peak llow Blood pressure with caution andin the context they have instruments at home Osigen saturation of your wider assessment Difficulty_breathing , Pain or pressure Inithe chest Decision and action Likely 19but Unwell Cold,clammy, Likely covid-19 Relevant Or Pale and Advise and arrange follow-uP, well, with mild owei deteriorating comorbidities andneeds motted skin Spron admission taking account oflocal capacity New conusion Which pneumonia patients Arrange follow up by Proactive. Ambulance Becoming difficult  Self management: to rouse send to hospital video Monitor closely if whole protocol fluids, paracetamol you suspect pneumonia patient care 999) Blue lipsor face Clinical concern such as: Little or no Temperature 38 C urine outpul Respiratory rate 20* Heart rate 100- Reduce spread of Safety netting Coughing up blood with confusion virus  follow current If living alone, Maintain fluid Seekimmedlate Other conditions, Oxygen saturation government 'stay at someone to intake to 8 medicallhelp for such as: 9486+ home advice check on them glasses per day red flag symptoms Neck stiffness , Non-blanching rash Breaths per minute Beats per minute If oximetry available for self monitoring 2020 BMJ Publishing Group Lid Read the full Kmuan DTLdthoutnrrooorolt thebmj https: / /bit Iy / BMJremcon n sumte noreapons bnty Iul Mt a pt{r article online aincinignn See more visual summaries http:/ /www.bmj com /infographics covd ney a\n",
      "{0}\n",
      "==================================================\n",
      "Observation 406:\n",
      "Original Text (filtered_image_text): Om Noe Også blir omtrent krever at 'sett sittet inne, luft bare praktisert være tillatt de på utsiden kan det åpning for kan at det Naer men der er medføre Jgà kontorland - for arbeidstakerne det ofte apne For eldre Dersom en kollega er imidlertid er det skap. ervi faresonen. Slik kjent at det ikke være vorerasiover praksis Paattitallet ; USA florerte smitte: howvere risiko for ~sick building ett Forurenset luft i der folk ble enconcådersirkuleres til deler av bygnin - ibygg uten en klar årsak, gen. Når det er men hvor ventilasjon var en kaldt eller veldig vesentlig faktor; 2003 varmt, kan luften som drepte sarsviruset ti prosent kommer ut av ventila- avdem som ble infisert sjonsåpningen i et kontor- gennom luftekanaler i Kina. bygg være resirkulert Vibar alle vært i hoteller og Mekaniske ventilasjonssys- kontorbygg uten vinduer temer ved vanlig filtrering hadde som kan ápnes. Mens de kan ikke motstå virus eller begynt planlegge atomfusjon eller fOr astma 0g allergi ofte blir en del gasser Bakterier kan bruk av ricin (et naturlig raketter Produksjon av føler også andre de beste systemer hanskes protein fra en oljeplante, et bakterier; sporer 0g relevant ubehagSlike bygg kan gi med, for eksempel på ofte brukt biologisk draps genmaterıale er litt for durlig beskyttelse mot sykehus, men mindre vapen tidligere Sovjetsam enkelt. trusler vi ikke liker tenke veldet mot dissidenter). De Vi må designe bygg slik at partikler og stoffer blir et planla også cyanidangrep ventilasjonssystemer lett problem_ (blåsyre). Sarin ble brukti kan slås av og inntak må Det er ingen filtre i bygg 1995 av den religiose sekten Kunne beskyttes. Kontorer Statsministeren har sagt vi som uten videre kan fange Aum Shinrikyo i tunnel - må kunne bli atskilt og skal soke robusthet. Da bør opp virus som korona De banen Tokyo. Avsløringer vinduer kunne åpnes. Det er byggestandardene komme fleste eldre bygninger bra at en pa dagsorden. Den totale bruker filtre av lav kvalitet, Det er ingen søker en bygningsmassen Norge som kan fange opp under 20 halvering bruker 36 prosent av det prosent av virale partikler; filtre som uten av energi- totale energiforbruket i typisk her er offentlige bygg videre kan fange forbruket Jandet Det søkes nå gjerne av litt størrelse nye bygg energibru- opp virus . men vi må ken inyebygg; et mal som Koronaviruset har åpenbart ha mulig ogsá 5 sykehus_ potensial til å lamme heten for Det er et edelt mål noe samfunnet, som et biovåpen etter Gulfkrigen Irak viste naturlig ventilasjon og som og også kan. Bioterrorisme er at Saddam hadde mange et minimum kunne stenge men det var WHO definert som tonn patogener og giftstoffer; ventilasjon i trusselsituasjo myndighe- inkludert miltbrann ner Vi kan klare begge deler 'ble pa da standar- ~forsettlig frigjørıng av lastet bomber og raketter Vi må eventuelt godta Det bygges virus, bakterier eller andre høyere kostnader for ofteetter det minst bakterier som kan drepe med dette håndtere energimål og Bene 'prinsippet: mennesker hssdxzoleble Historien om biologiske oppnå robusthet. Stats- skal være mekanisk og avlinger . I USA våpen som kan forårsake ministeren har sagt vi skal styrt med miltbrannsporer senet 22 epidemier; er lang; og det er snu alle steiner vinduer som ikke kan åpnes, gjennom postsystemet; stort sett ikke behov for Jørn Slljeholm 'fà sentrale luftinn- personer ble påført milte elektriske komponenter; ph ( Balansert - brann hvorav fem døde avanserte laboratorier; siljeholm]@gmall co er noen stikkorog 2002 fant ut at al-Qa'ida MENINGER syke hus kalles miljobygg KONITOR  Bypningen LRDSKAP ofle forseglet. Jon sfkcholm Arbeldstilsynet Norge resirkulering Mhar stort : skal dersom Wemme  arbeidsgiver med aetand dokumentere gradvis - ikke helse- 'pa jobben, rısiko bygninger , smittet,  behover  begrepet syke sndrome veldig titan med plaget ber; en halvering : inkluderer  enbor tilstrebe ikkee epidemier  tene 'lenkie dene _ 'elablert. intuitive ] Byg; sentralisert = 0g mned ventilasjon  svært passivhus man\n",
      "{0}\n",
      "==================================================\n",
      "Observation 559:\n",
      "Original Text (filtered_image_text): Jan Hanvold 13 t . @ Idag har jeg kost meg på ski på Geilo. Og hatt mange henvendelser ifra journalister. Hvor jeg valgte, å si ingen kommentar. Vi er blitt eksponert på Nrk, Tv2, Dt, Nettavisen, Dagen; Vårt land og en masse andre steder. Vi toppet Twitter dag. Saken er at vi igjen blir anklaget fordi profeten Dionny Baez. Snakket om Koronaviruset og om at Herren kan beskytte oss og våre barn ifra det. Vi har aldri sagt at en kan kjøpe frelse, eller helbredelse eller beskyttelse. Vi har bare snakket om loven om, å så og høste Men folk hører hva de vil høre. Vi driver ikke et helseforetak hvor vi behandler folk. Vi ber selvfølgelig folk følge helse myndighetenes anvisning; når det gjelder smitte. Når biskopen anklager Baez for at han er blasfemisk. Er jo det helt på jorde. Fordi Den Norske Kirke har ikke monopol på teologi. Eller når en misjonsforbund pastor anklager oss, så er det jo mangel på respekt at andre har en annen teologi enn misjonforbundet_ Men det er jo ikke noe nytt ifra den kanten. Han kritiserer alle som ikke er politisk korrekte. Så har du et nytt lavmål ifra Jarle Haugland Tro og Medier. Som snakker om at vi driver mafia-virksomhet. Du verden for noen kristne forkynnere Disse folka er så fulle av fordommer og fordømmelse, av folk med en annen teologi  Men jeg forventer ikke annet ifra den kanten. Så er det politikere som sier vi bryter kvakksalve loven. Ja, de vil ha et diktatur; hvor det blir forbudt, å be for folk. har jo sagt hele tiden; at vi lever i et demo diktatur. Hvor eliten skal bestemme vi skal mene, tro og si.Men jeg er vant med janteloven Norge. Og med sekulære journalister, som aldri har lest bibelen eller tror på bibelen. At det er Guds ord. Så derfor hører de hva de vil høre og mener hva de mener. Og de går flokk, å er politisk korrekte hele gjengen Derfor orker jeg stort sett ikke; å snakke med dem. Fordi det er stort sett fake news de presenterer. Og dessverre tror jo folk på media sier Og de verste av dem er jo de religiøse Som skal putte på oss deres religiøse tvangs trøye. Nå tar jeg ikke alle under en kam, det er selvfølgelig noen seriøse iblant de sekulære. Men takker Gud for Norge Idag, Resett og Dokument Men de er jo selvfølgelig med det gode selskap Ha en velsignet natt, å tenk selv. Hva du leser og hører. også Jeg hva hva jeg\n",
      "{0}\n",
      "==================================================\n",
      "Observation 1022:\n",
      "Original Text (filtered_image_text): LoRDAG 12 OKTOULR 2019 EQUINOR OVERLEVERER PUD FORHYWIND TAMPEI 5J1 beste fall i null Nom ENERGI: Equinor skal bruke fem milliarder kroner påutbyggingen av Hywind Tampen, men selv med nær 2,9milliarder i statsstøtte er lønnsomhet urealistisk, ifølge Equinor-topp Pål Eitrheim. HANS IVER ODENRUD utbyggingen av Hydros teknolo- hansirer odenrud@finansavison no gipilot på Karmøyi2014. HYWIND TAMPEN FORNEBU: Hoveddriverne for tillegg til Enova-støtten største flytende havvindpro- prosjekterer 'teknologiutvikling; mottar Equinor 566 millioner siekt Ilvindmaller skal etter planen CO2-reduksjon på norsk sokkel kroner fra Næringslivets NOx- forsyne 'oljeplattformene Gullfaks ogposisjoneringiet vekstmarked fond. og Snorre i Nordsjøen med strøm for for Equinor ognorsk leverandør - Men heller ikke at staten delelektrifisering (rundt 35 prosent). industri, sier Pål Eitrheim, kon - tarover halve regningen er Ringvirkningene er anslåttà serndirektør for nye energiløs - altså tilstrekkeligtil mellom 15500g 3.00O arbeidsplas- ninger i Equinor: sjektet vilgå ipluss. ser; hvorav de fleste iutbyegings- fasen. Statsminister Erna Solberg Vårjobb nå er å jobbe med Prisen pá prosjektet er anslátt til 5 (H)mottok fredag ettermiddag kostnadene, slik at Enova-støt - milliarder kroner;, hvorav 2,3 milliar- to oppdaterte planer for utbyg - ten blir så liten som mulig Det der dekkes av statige Enova. Equinor gingogdrift avdet flytendehav - viktigste er åløfte et teknologi - er fra tidigere tildelt 566 millioner vindprosjektet Hywind Tampen prosjekt som gioss enerfa - kroner fra industriens NOx-fond Kan hos Equinor på Fornebu ringsom ingen andrehar Det er; Equinor levertei mars en konsekvens: De 11 havvindturbinene skal kanskje sammen med CO2-re- utredning som skisserte fabrikasjon forsyne olje- og gassplattfor - duksjonen, deviktigste driverne. fraoktober iår ogut 2021, uttauing mene Snorre og Gullfaks med Detteereninvesteringfor frem - sommeren 20220g produksjonsstart kraft, noe som vil kutte CO2-ut - tiden, sier Eitrheim. itredjekvartal 2022 Verdens iskape atpro- kan\n",
      "{0}\n",
      "==================================================\n",
      "Observation 1098:\n",
      "Original Text (filtered_image_text): Debatt&-meninger 27 Den nordnorske identitetsmaskinen Medierevisjonen INord-Norge energi. Og den som tolger Facchook Nuppchciorfiniiilafk Soincyci Iylke, vl er vibesatt Tkilaneopn kjernen: nordhoer Gerhardsen, CunO Erınnlepgende anncrledes. Ingen spaltis:, av stedet SfiliT egentlig forslà. Boda Overtorenytreidiore bzeingav felles identiter €t velkjent virkemiddel. Da iesen Oileislallls _ Kamoyine uekje herfra, du? Mcuaioiei Ox0s < Gei Senral sporsmnalet far je Ira td Ingnedienser Mencnlarlsosom sasterkt tlanusen Immn, plclerJegasıa lali 4141 Ixnher Koyeren Hvorerieu erentlig Ira? Jer inderlig vilje Pieke norunoiSk: ervelencodnordkılttbunding tormer samtidie rommet tor oltentlie meden famnilie fullav hnnnuaskinger, es  ehau harjex boddidenneLndsdelen imner enn kuskje derlor det  attiar ppcker det strider mot presseetlkken \"Alu narteulalorog Journalls( [elliiliysine( Da vetden som spur at jekeren delav Sellonuli orlulen smtidix er nest- ogatdetikketrenes kulturtolkning Icucriaksionsviuuueifuffinniaik Det trengs ingen historier om orkan OG Finnmarkharterskelenforhon forakt stotM Ok landligge Hvis jex Kior Oxlor Ederstempel hvalmlitiker Jegolte RJCT, snakker paen underhıg shr Patt mn01 Suelhuurn luulusu blindinkaynonnorsk ogostlenaling  sier Ioreueieil(lakssctiny Kde Dolilikeie ViAlal Oglorskerchlar lorlall omcloruskille som Forskjellenpa Yord Norgcogmin lodeby uuuleecs Soi Uiicale Uiyul Lcucisen erar Oslo ikke bryr seg- harhinnmark hcclriu konsckveni meninsiotshanloresostiketeasteder Nord besatt stedet Ogherblir ogsS minnehistorien Irakrigen Oslo lorventer ingenting deg % gir hruktaktivt Ior sPeile dacens politiske wvor du Koiiueril OM duc torholle Dalijin eller (asehueifoiieilbyen SVCICT all Cnh schfnnc Risikabelt Joisoke Jyansere plass, Stedetersistortog Sitinien- Men deter mer ulentrtet 1 nord, 02 snisk Salt 0g mangfoldig stedet ikkelenfer er dennisvrdelesheusllera dervanskelig intciessang snakke om à balansere mellom trontene, deil som Non None Ivsittav steeleta punrrscs bllr rskt plussen forellermot Viurhsae kennenuerhvoraorall Forsok pa Dyanset O Saninensalie Uneci ikke nocnandre dcler prspektiver risikofyl. Lndet ershopptattav kotnbinasjonengen Prulessor Fnar Mlent veunnershetet grafi 0g selvforstiekse som Nord-Norge- TonsO demn somhar fatt hard Tromso Ilalr Ckscmochiocstcintsator medfart , fordi han ikke uforbcholdent Me Movcusiauen Aekuis 0k n4 vil stunterhsseIingen Idehualten som lulgte- prosjekiledelsen ha arktisk Identitet inn Iresianu Lilleiallie lag iskolen For identitetssprsmnalet UllToveFrcdrksen, lunnetoppetnytt ord Ueerail lorakulakorisaesuiktonkrneanaisisu' Hvis esuringkarantenenenoensinneopP Skal vi forlengc ~sorıngkarantencn ? heves bor Nord Nonge uavhengise mcUer Viserderisunfunnsdehauen Viserdeti reise medrenortereogkonnentatoreropo kursleu Viserdet piden politiske kamp hit lor undersukehvadennenenilets 30naden nofds Telasjon tl mnaskinenkaw Medyuringski oklevekar RusshandViserdetinondsrelasjontilsog 1snua OR SIOre sam/unn , Dct kunne Oxsi Dcttc Manilcstercr SCV iorml Mecicsanta Mtcou ncivikt Iortellıng on hen oM MCnnesker posltiv eler nckaunve paden demoxrahske fortellingen pusher badeinterntog utviklingen utvikling Manze #ksterni akkurat na har denguttlytog hargattrett vest.Ellcr InCF presist: [eitsor Iame beshuaineen l Brcnscnc for tilrciscnd fra Snr-Norxc. 0x ulbeerepct -sninckarantenc finnes selvfolgelig helsefaghge argumenter for stengningen Snlung sarhare for koronasmitte Qere grunner  Men der noe Med Eloden Cnkasicientci euuctatuien Kotiiiochlariehteue Lociwuicnycule Soin forkharsurhnuar Ikkefuter- Vamordlurenen Tromsosuesder helt ol Sogtre Yi Facebouk on folk 1 ha mer suringkarantene eller ikke. mens komnmueuscneyenilopusamiknlixnler Iekitinkeus iivulsiaialiolieu datt-kekuagen soulbodreuheksuhnuing Riuuark r~uen loyer SCg lint Identuetsbsegende arbeidet somn preger nord-Etarbeidsom blitt sterkt vitalisert Jesenercarcne Osomnlkerineriagkng oicngeinoid KOlIIICI Unlversitetssykohuset Nord-Norgo (UNN) / Tromso cr Illknyttet 11 mindre sYkohus | Bade rexionrclormcn feiringen rogionen Tromso kommune ınnfort0 *soringkarantenar for $ sklerme kapaslloten. ukjotnken Finnnrlur KItt mye Folo Rno Sic IVtrif  WiiIG  Anki Aterke O 01 okkon alpul Norge blallen barcu Mange\n",
      "{0}\n",
      "==================================================\n",
      "Observation 1142:\n",
      "Original Text (filtered_image_text): 10.5 Anbefalt strategi for 2020-2021 Det overordnede målet bør være at sykdomsbyrden av epidemien skal forbli lav samtidig som uheldige ringvirkninger og kostnader av smitteverntiltakene minimaliseres. For oppnå dette må strategien være dynamisk: tiltakene må justeres etter utvikling av epidemien og kunnskapen. En slik strategi har fire forutsetninger: 1) Vi må ha god situasjonsforstaelse slik at vi raskt oppdager både lokale utbrudd og en generell utvikling som kan kreve justeringer av smitteverntiltakene og omlegging av virksomheten helsetjenesten. Dette krever økt testing forbedret intrastruktur (se kapittel 8 0g 9) for overvåking løpende forskningsbasert analyse, prevalensstudier og infeksjonsmodellering som samlet gir et tilnærmet sanntidsbilde av epidemien og bedre kunnskap om hvor 0g hvilke situasjoner smitte særlig skjer. 2) Vi må forstå mer om tiltakenes smitteverneffekt, uheldige ringvirkninger 0g kostnader slik at vi kan sette inn den rette pakken med tiltak. Mer kunnskap kan vi fà gjennom infeksjonsmodellering 0g forskning (se kapittel 0g 8), herunder forsknings baserte utprøvinger av gradvise endringer 0g sammenlikninger mellom kommuner eller andre enheter. De mest omlattende (befolkningsrettede) kontaktreduserende tiltakene (tiltak 5) 0g reisetiltakene (tiltak 4) har uheldige ringvirkninger og kostnader, og det er neppe holdbart opprettholde alle særlig Tiltak rammer blindt ved at man reduserer kontakten mellom alle enten de er smittet eller ikke siden ingen vet hvem som er smittekilder. Testing 0g isolering (tiltak 2) samt smitteoppsporing og karantene (tiltak 3) mye mer målrettet fordi man da tar ut smittekilder , men lar de ikke-smittede fortsette møtes. Disse tiltakene bør styrkes nå som de kontaktreduserende tiltakene trappes ned (se kapittel 9). Utvidet testkapasitet slik at personer med milde symptomer kan testes, 0g forbedret smitteoppsporing herunder appen Smittestopp viktige tiltak. Med økt aktivitet samfunnet er det forventet at forekomsten kommer til øke noe Det er sannsynlig at gjennomgått infeksjon gir immunitet. Immunitet i befolkningen, uansett andel, bidrar til redusere smittespredningen (10 % immunitet gir 10 % lavere effektiv R). Immunitet i befolkningen er dermed også med på redusere behovet for de mest inngripende kontaktreduserende tiltakene Covid - 19-epidemien OB Folkehelseinstituttet Samtidig må vi stadig forbedre tiltakene for beskytte de eldre, særlig beboere i sykehjem og omsorgsboliger og mottakere av hjemmesykepleie. 3) Vi må forberede helsetjenesten, særlig intensivavdelingene og sykehjemmene; på et høyt antall pasienter med covid-19 slik at den kan håndtere eventuelle økninger i 48 epidemien. Det krever samhandling mellom sykehus og kommuner. Samtidig må ikk helsetjenesten redusere sin ordinære aktivitet før det er absolutt nødvendig 4) Vi må ha en med befolkningen om71 epidemiens utvikling strateg tiltakene Befolkningen må forberedes på at epidemien vil vare lenge, mang men at bare noen få vil bli alvorlig syke. Publikum må forstå at en null er realistisk; risikoen kan reduseres, men ikke elimineres, og at frivillig oppslutn tiltakene fortsatt er avgjørende for holde epidemien under kontroll. lenge. Ogsa Norge god god dialog 5 syke\n",
      "{0}\n",
      "==================================================\n",
      "Observation 1221:\n",
      "Original Text (filtered_image_text): Hvorfor har norsk presse vært så tafatt med å følge pande miens konsekvenser andre steder verden? Et journalistisk lappverk om4 Rjoredet Etaldershjem KRONIKK innfontetidlig besoksforbud deoppchaget smnitte op #kk RjonarSkfc krtikk aven minister Uvenunng paslunter mcllon svkehusene som star UnderGder ontrol aldershjemsom reuone Uka da Erna Solberg varslet Negansvar Val Fritick Sulen pa destrenge Korona mnen hndet hadde tiltakene sendlden Nilun plan fordette Desbk lukale skulenher Belea ut Improvisent pa hven sld euskrn foreldre. Dz hadde tatt grep Innfurt Den høye dødsraten kommer eene regler for nindre altsa etpolitisk klima preget smitte p tidspunkt daen splid og mistro, meden nolende rerjerin ennaikke rekjering sitterpalant hadlesten t skoleneok Uidlderhelsezkspenere har mangletennasjonal sualyi Fallmer suluenn Norge mensmedieneya lullav enskrwenrllervidere illevarslendenyneteron def lenta overse hvor Koronasvke forskjellige forhold deteri Etter munnefall ved hvert landSliktervanskelig Jandlets eldrehjen kan landet alegesektil Daendesk 5 uibakeu; sicuel fresvi NO~AU utbrudd gom har sistetallovensikt elerlatt sex Over Ug labellerog prafer tusen code lusreve fra kontekst ME NIOPLE blant anne VGog Ogirsakssammen NTB nylig meldte henger Derfor om Belkias paradoks at lere ferden pssodelig: Det er lett å nore mndictrekkon ~cRÖNA het.meldes det denterdakrisen slo kurt omal detnar overse hvor somulenpus EJore med forskjellige tensher Bussel maten deteller Det fins peri dag untall dode p forhold det undi noiSke mendetmangler filansiounnligter Oylliger hvert Sorhiningl , Ixkgnn sum verdun oardun KunA Kjort det land. Orlniserl Norsk muliga mmen- Journalistlag likne med norske forholdop serkrisen ulspille seg dag for Gerned louneav c dag ulen 4 bli spurt om 4 belgiske nrene til mer bidra, mens dekningen av ennaareranlelny Krsen norskemediei passerog har denhoyeste a[yerseltenienineiene GA / DYBDEN: Arsakene bak Belgias hcye dedsrateer vanskelig lese seg til fra en desk 1 Oslo, skriver mangelfull Dbevel Jediaelen Siden deuresu eueWanke armed Kuldei Ragnar Skre ett av mange eksempler pà hvorfor man trenger norske /curnalister pà Urlander Tellemäten sendte klautverk 0g klipp-og-lım fra pa 1930tallet Hvordan bare noen faavisurIenger har belgisk kvinne som protesterer #legnen korona  og den midlertıdige reglenngens tıltak Bdgia ul pa dodsstati Ulenlandekehvrir USA handterer dele Irm nepenuledtiksn-daksion FOIO francoiseoir AP/NTB SCANPIX slikke polıtısk Overvilfd Iinevirkninger klina av mistro Dette Ikke bare hel verenover detsy med Da kan detvære mye hente enKontoversiellnayiekozi Knse somfNsulukines nanskrsen trekkeinn noen av ild- gereiva ulmed4umillioner arbeidereogansatte nolske det Kjelder medisiner snilte sionharattlov styretil DynagierMenok ensvalen Enna vet iKkeom vnlusel sjelene som har reigtut p4 Kronel ekstra koronamidler Ayselskap som oppholder sex Vemnutstu eller journalis- Khse over Eksperene Krsenedukonomiskeuv vil rarnrne likehardtiresten exet initiativ OF tilemnet seg gomal Ierynt g ned uhande tikk Et gerlig ansva sombelemtealeieofs sustaledumensioperuten vVetuen aenverdens sprak og lokalkunnskap  Uyerntksen Aennmblenei ndvendievis hvile NRK som dor uten deeertall sldcsWkK matvarcoreansastunnar rrlunslournalstei crat proslektur lelt kan blı En god utenriksjournalistikk Da kan det ver verdt blodprovemenur dellegirel Det iandet som hardesl alerude advart omukısultı kiGneleenelavalviha lappverk og -fallskjermjour sum gar ıdybden 0g vISUT Minne oMalnuun kring - mestkorrekt bildemen ranmeeDer USA-Der verdenmens Vardanshanken mulighet tl reise rundt og nalistikk arsaker Og summenneger koshten korrespondenter slatsministeren blant dem mistel Videg Korrespon s fere uliorske stedovertidog Erarbeidsstipend etler bidra skalle bedre har ven (rlanse sommenerderkan gkule Meniene til de viktigste enneykei bli drevet Ul opparbeideoss dybdekunn modell fra det kunstner og faktagrnnlag Songr unnlak Eller destartet som det ndelgOmuone utenrikgnedienev cyetrematiodon SKap Lre td kjenne, kritikerefr villevent bebre fordemokntisk debatt og son henuun rikssjec, Lanessurstekitna enpostenog NRK tettlor andn laseavkrisen, Mende lida byxgee Ogikulkonlnulel0\" Menugdannelst Ragnar Skrer klinikk. Saint Pienrei Brus- krisen sio Mn Deter pruble mLd skonomısk erouki . kildenettverk alire seka tulketrygdlovukanendres krisciid er det problematisk {ulanslournalrst, regtonkorgakt sehinitertkoseberedskan matiskUSAhar na mistet mens lkkroralevemed unnga fallgruberog nybegyn- sikres medlemskap på eiorossayneneiseay utland NIFrilans Brussel Belgia to uker for den likk beskjed over Y0mdlhonerarbuds sik erdetenmuheherul ncrfal Fhut Ord gikk Uıdhı Iinje mcd militare-bıslands- interasjonalc akterer; enten emicltoj fakior Notee Police Oplo med Plass oprs spld har boner\n",
      "{0}\n",
      "==================================================\n",
      "Observation 1250:\n",
      "Original Text (filtered_image_text): Bjørn Druglimo Rotarysnut og Hovedvernombud Sør-Øst politidistrikt Norges Politi har ikke Elitens life Her kommer en hilsen til kapasitet til å forstå matters! mennesrettighetene Det er ingen Varslere om akkurat fra oss i norsk politi: maeeseereer å gå på korrupsjon, mener de. Hvordan er det med pedofili og STATSPOLITIET integriteten til folk soml kriminelle Ditt liv betyr noe må drite på seg mens unge betjenter peker politi skal og ler? Hvorfor får jeg POLITIET TAR HEVN MOT FOLK SOM MENER KORRUPSJON / POLITIET ER LIKE KRIMINELT SOM ikke vaske meg ødelegges! KORRUPSJON ANDRE STEDER KRIMINELLE SOM BEKJEMPER KRIMINELLE ER IKKE RIKTIG: etterpå? LEAVENO Har pedonli blin aksepter i elien? Myndighetene og makta må opprettholdes og IONEBEHIND Løgner og Bedrager beskyttes for enhver pris. Politiet har blitt privatpoliti for pengemakta 0g korrupte myndigheter. Politiet støtter korrupte bl; Kelv har jeg blitt nektet å gå på toalettet når jeg ble arrestert, og| kommuneansatte i pollimann PO blitt hånet med hånlatter når jeg måtte gjøre i buksa. barnevernet fremfor barn: Rotary [HVOR ER DIN INTEGRITET? Politibetjentene fra Politidistrikt Sør/ øst klappet 0g Io mens en IENAKENEWS voksen mann måtte giøre i buksa mens de holdt meg fast. har depedofileioseberG Pedolaug- odo fellov FATT EN SMEIK PA PUNGEH FOG SIN PEDOFIU? GIMLE ROTARY- 06 PEDOKRATKLUBB? KVORDAN KAN DERE FORSVARE GAMLE PERVERSE FREIFOR ORDIMERE MENNESKER? Siktet for drapstrusler mot PST-leder Hans Sverre Sjøvold og tidligere politidirektør Navnet Bjørn Druglimo er tilknyttet Humlepung i over to år. Politiet har stjålet datamaskin med masse utstyr for å lete etter det som står på e-post nr omkring 300 uten svar fra politiet: Regner med de har e-posten både frimureri 0g Rotary Pedokrati siktelsen gjelder. Skal de plante pedofili? Låne bilder fra sine kolleger 0g plante de i min? Varsler om kritikkverdige forhold i oppfølgingen av de ansattes mentale helse Politidistrikt SørlØst. deg\n",
      "{1}\n",
      "==================================================\n",
      "Observation 1292:\n",
      "Original Text (filtered_image_text): 1ibalte 6Wiek caun hefur þao ormneo 381 u Pionustab Ynw etlon vloao koma VCk booburoum sem skipulagðir höfðu atriðum h rnnoviolendumhar verio um verslunarmannahelgina sniðið 00 Vioir Keynisson Yfirlokrecluvionn hefur verio aflyst. Viðir Reynisson Opið ve @icae) yfirlogreglupjonn beindi orðum laugum 907 Sinuin til unga folksins sem beðið takmark 7n1 sottvarnalæekntr rokstyou heturspennt cftir þvıao fara morkun 1 petta mcobvrao pao seskynsain legu.slikt yroiao biða Sxarrrs mjog akveoıo nour Vio eruM ekki komin a pao ao 0 lext a0 sUga terðahelgi frekar vera meo neyðarastand 0g meo sighvatu tyrir pessa miklu Föngum verði veitt frelsi COVID-19 Formaður Afstõðu hvetur Fangelsismálastofnun til að veita peim föngum frelsi sem hlotið hafa fangelsisdóma fyrir minniháttar brot 0g ekki teljast hættulegir samfélaginu petta kemur fram aðsendri frá Guðmundi Inga póroddssyni, á vef Fréttablaðsins í Fangelsismálastofnun hefur tímabundið lokað fyrir heimsóknir og ferðir fanga úr fangelsum af sottvarnaástæðum. Er um að ræða tímabundnar ráðstafanir til að draga úr líkum á dreifingu COVID-19 í fangelsum landsins. [ greininni er lýst áhyggj- um af 'geðheilsu fanga og varað við Takmarkanir verða settará heimsókni áhrifum af heimsóknabanni. Fangar tóku á sig verulegar til þess að taka tillögur félagsins að byrðar þegar neyðarstigi var lýst úrbótum alvarlega og hrinda þeim yfir í fangelsum landsins í vor og íframkvæmd. neikvæð áhrif eru enn að koma þá ætti að veita föngum endur fram ; segir meðal annars í gjaldslausa símaþjónustu, auka inniogeru tfangelsisyfirvöldhvött tómstundir og undirbúa fjarnám o5 lag Uti= grein gær. igesta grein -\n",
      "{0}\n",
      "==================================================\n",
      "Observation 1308:\n",
      "Original Text (filtered_image_text): Pesifes\"ssienskaoset koronaviruset o Hwkohunlkknor 1akv a (K(e k NoL al [uionrnorikn LAn U s ruik ne lueai mandenc Atelrenbr ekrer demn Ke BBC Cnon Iereriddemtnlustrlen hvuc UUPTeAIAlAe' DuisonC Boinorci c Gn forsoslale medier lckkagicr Crn G egentlig foregar oar er22ee Bonala Trump fr bak det vIpå overflaten ser Republikan Ad kastetav Twiuter forà Ifølge teorien er Donald Trumpen markant tet opp og spredt desinformasjon frelser som er i ferd med avsloreet pandemien ndemien Det hindret ikke hemmelig nettverk av internasjonale pe - Pew R emnen Madonna å gjøre det dofile og korrupte politikere 0g byrakra - for at de selv Ifølge henne vil <dew kontrollere ter som styrer politikk, medier, under - for ábli alvo holdningsindustrien stort sett alt_ eller ikke br 1frykt. Alle som kjemper den rettferdige 0g et symbol videreformidler kamp, må bekjenne seg til QA - Og mens lanserte seg som politiker non, og følgelig støtte Trump. Det er til seg så god gn om at daværende president og med utviklet en egen ed hvor man er- forsøk pà ama egentlig ikke var født i klærer <Der en av oss går, går allev . Eden Kenya Han hadde ikke selv ble tidligere sommer avlagt av blant an- Liv påsp ette plottet, men plukket opp dre Trumps tidligere nære medarbeider Foreløpis allerede sirkulerte. Michael Flynn at demo vært betegnende for mye Joe Bid asjonen han senere har Vaksineskepsis mening gjerne i den ekstreme QAnon-konspirasjonsteorien fantes før det spe eorienterte medier- covid-19, men har klart å også inkorpo - være ubegrunnet påstand. rere teorier om pandemien. Det hevdes Og rumpden videre med at Microsoft-gründer Bill Gates, en man- 0g rt til verden. Itilfellet geårig forkjemper for vaksiner, ønsker å som utter lange videoen om massevaksinere befolkningen for å im- ogh lettstedet Breitbart som planteres en mikrochip i de vaksinerte mer nelige publiseringen. for å kontrollere dem. Hele 44 prosent av kon årevis vært et arnested republikanske velgere tror på denne teo - vik rundt vaha koglund 0101 h( hva min ifolge gode ! rump\n",
      "{0}\n",
      "==================================================\n",
      "Observation 1493:\n",
      "Original Text (filtered_image_text): Covid-19 Ukerapport - uke 41 fhi.no Tabell 6. Antall dager mellom prøvetakingsdato 0g registreringsdato for covid-19 tilfeller meldt til MSIS , etter fylke, 17. februar-11 oktober 2020 Siden begynnelsen av epidemien Uke 34-37 Uke 37-41 (17. februar 11. oktober) (17.august = 13. september) (14. september 11. oktober) Fylke Antall Median Gjennom- Antall Median Gjennom - Antall Median Gjennom - tilfeller (IQR) snitt (SD) tilfeller (IQR) snitt (SD) tilfeller (IQR) snitt (SD) Agder 553 1,0(1,0) 1,3 (1,1) 1,0 (0,5) 1,3 (0,8) 126 1,0 (0,0) 1,0 (0,5) Innlandet 733 2,0 (5,0) 3,3 (4,6) 2,0 (1,0) 1,8 (0,8) 128 1,0 (0,0) 1,2 (0,8) Møre 0g 303 2,0 (3,0) 4,1 (10,2) 2,0 (0,8) 2,0 (1,0) 109 2,0 (2,0) 2,3 (2,0) Romsdal Nordland 224 2,0 (1,0) 2,6 (6,5) 2,0 (0,0) 2,2 (0,9) 1,0 (1,0) 1,6 (0,9) Oslo 5 119 1,0 (1,0) 1,6 (2,5) 602 1,0 (1,0) 1,4 (1,0) 1284 1,0 (0,0) 1,1 (0,7) Rogaland 797 2,0 (4,0) 3,7 (4,0) 1,5 (1,0) 1,7(1,1) 211 1,0 (0,0) 1,1 (0,7) Troms 08 396 1,0 (1,0) 19 (5,7) 1,5 (1,0) 2,0 (1,7) 1,0 (0,0) 1,2 (0,8) Finnmark Trondelag 735 1,0 (1,0) 1,8 (5,2) 2,0 (1,0) 1,6 (0,9) 1,0 (1,0) 1,3 (0,5) Vestfold 488 1,0 (1,0) 1,5(3,3) 1,0 (1,0) 1,5 (1,2) 104 1,0 (1,0) 1,4 (1,0) Telemark Vestland 2 053 2,0 (1,0) 1,8(1,5) 578 2,0 (1,0) 2,0 (1,4) 507 1,0 (1,0) 1,6 (0,9) Viken 4 251 1,0 (1,0) 1,6(1,7) 699 1,0 (1,0) 1,5(1,3) 703 1,0 (0,0) 1,2 (0,8) Utenfor Fastlands - 1,0 (-) 1,0 (-) Norge Ukjent 2,0 (1,0) 2,3 (0,5) 2,0 (1,0) 2,3 (0,5) Totalt 15 662 1,0 (1,0) 1,9 (3,2) 2 240 1,0 (1,0) 1,6 (1,3) 3 360 1,0 (1,0) 1,2 (0,9) IQR interkvartil rekkevidde (forskjell mellom første 0g tredje kvartil); SD _ standardavvik. *Personer registret i forbindelse med utbrudd pà cruiseskip er forelopig registret med bostedsfylke Troms 0g Finnmark . Dette kan bli justert. Tre tilfeller ble registrert uten kjent bostedfylke 0g ett tilfelle utenfor Fastlands-Norge\n",
      "{0}\n",
      "==================================================\n",
      "Observation 1557:\n",
      "Original Text (filtered_image_text): \"COMMUNIST COERCIVE METHODS FOR ELICITING INDIVIDUAL COMPLIANCE\" : The Biderman Report of 1956 and COVID-19 Chart of Coercion COVID-19 Isolation Isolation Deprives Indlvldual of soclal support of his ablllty to Social distanclng resist Isolation Irom loved ones, masslve job loss Makes Individual dependent upon the captor Solitary confinement semi-isolation Individual develops an intense concern with self. QuaranlInes, containment camps Monopolization of Perception Monopolization of perception Fixes all attenton uporı immediate predicament; ResuIct movement Frustrates all actions not consistent with compliance Create monotony; boredom Ellminates stlmull competing with those controlled by Prevent gathering; meetings; concerts, sports the captor Dominate all media the 24/7 , censor informatlon Inducod Debility and Exhaustion Induced debility Weakens mental and physical abillty to resist Forced to stay at home; all media is negative People become worn out by terision and fear not permitted t0 exercise or socialize Threats Threats and Intimidation Cultivates anxiety and despalr Threaten to close Łusiness, levy fines Gives demands and consequences for non Predict extenslon of quarantine; force vaccines compliance Create containment camps Occasional Indulgences Occasional Indulgences Provides molivation lor compllance Allow reopenlng ol some stores, services Hinders adjustment to deprivation. Let reslauranis open but only at a certain capacity Creates hope {or change; reduces reslstance Increase more people allowed 1o galher This keeps people unsure of what is happening. Follow concessions with tougher rules Demonstrate Omnipotence Demonstrate Ominpotence Demonstrates futility of resistance Shut down entire econories across the world Shows who 1s In charge Creale money out of nowhere, lorce dependency Provldes positive mnotivallon (or compliance Develop tolal survelllance wilh narochips and 5G Humiliation or Degradation techniques Degradation Shame people who refuse masks; don't distance Makes resistance seem worse than compliance Make people stand on circles and between Ilnes Creates feellngs of helplessness. Make people stand outside and wait in queues Creates fear of freedom; dependence upon captors Sanltation stations in every shop Enforcing tnvial demands Enforcing trivial demands Develops habit of compllance Famlly members must stand apart Demands made are Illogical and contradictary Masks in home and even when Sex Aules on compliance may change Random limits on people allowed to be together Relnforces who is in control Sanitizers to be used over and Ina day www beingfree;ca The Chart ol Coercion above 1s drawn Irom the Biderman Report on communist brainwashing tochniques used by the Chinese and North Koraans on captured American servicemen t0 rnake them psychological as well as physical prisoners. Dr. Alfred D. Biderman MA. and presented hls Report at the New York Acadamy of Medicne Nov 13, 1956. Compare right column wlth your experence thls year; Bideroan Report  https:llconsensualenslavement com bidermanreport html Amnesty International Aeport on Tarror htlps J/www amnesty org/en/documents /pol10/0001/1983/er/ having over\n",
      "{0}\n",
      "==================================================\n",
      "Observation 1623:\n",
      "Original Text (filtered_image_text): Paeliminary Ruunl Main RoUND FinalWeehenu Aaarus Precictthevinner each ofthe 24 Games inthe Prellminary Round. The standingswIll automatically update Ineform makethe predictions forthe matches Inthe Maln Round will be Predictthe winner ofthe semifinals; the match for Sth place the accordingly-There's however cne important thing nore:ItWo nofetasace predicted chieveine sent outtoall participars afrerthe Preliminary Round have finished thesth pronzemedal finaland thefinal,along wIth your predictions inenoines thedetaulatie-breaker seeding andhead head Eoal cilterente are not corsidered December tbafweuan predic aqua matrhesand followtheadtion whowillmakerhetournamenesAil-SarTeamang namedthe YoucanManvally oveinoeine nishing position fortneseteams bychanrinetnenumbersin the Ovir \" thetovnoamentoroaresses Fornow \"ousnoulo only precictthe Froup Stancines MVP Best Detensive Plaverand thetoumament'stop column Inumbers 14 only'). The evantcellsshouldturobluelfshis occurs seewhichteams advances theFinal Weekend Joaiscorer Gioun mauche Giour sandnes Giou Waicies Gioun sanudiu s semitiuas 0112.2020 Frane Montenegro Aance pam Point. 10.12.2020 heam 18.12.2020 Ffance Germanv 2020 Denmans slovenla Denmark France 10-12.2020 1/A France France 18.12.2020 Nonvay Denmar: Nonvav 06 12 7020 9ena Frange Prance eomafk 112 7020 2/4 Denmark Denmark 0612.7020 Menrenegro Dearn Ifk Denmagk Slovcol 11-42,2020 3,/A Slovenia Russia Fiul phaccwenlwlde 1zZuZu Monieneero slovenla siovenia Monieneero 13.12,2020 RusSke Sloveni sth eth place 12 2020 Frane Deomark atance 13.12.2020 2/B Sweden Sden 18.12.2020 Russ = Senoia Fussia 15-12.2020 3./5 Soain Soain Giqug atches Gioop e Smdions 15-12.2020 place 03 12,2020 Russla Snain Russia Pam Poin< 15.12,2020 20,12,2020 Germany Denman< cenman 122u20 Sweden Czecnkedubic Sweden Russle 137170 Caech Republic Russ ss Gueden Gtoug mavgnes Group ll -standings Final 12.7020 Soaln Suaden Seden Spatn 10-12.7020 Tcau 70.12.7020 Franee Nonay Norvav 0712 )020 Spain ech Republic Spain Czech Republic 10-12,2020 TBA vs L /C Serbið Nonvay 07.12.2020 Russia Swveden Russia 12 12 2020 2C Netherlands Germany All-Star Team 12-12.2020 3/C Hungar; Serdia Giqug Matcnes Gtoup suandines 1413 7120 VD Nonvay Nemnenands Goalkeepe Sandgatoft 04412,7020 Hungary Croali Hunga ain Poine , 14-12,2020 2/D Germany Hunfary Left Camilla Henrem 12.2u20 Neinenands Jendla Serola Jerdie 13.12.2u20 3,/0 Romania Romania Leit 68ck Enil Bolk 0612 2020 Sefhia Nuncar' Methedands 15.12.2020 Playmaker Daria Aumineva 06-12.2020 Croata Nernenands Netherlands Huncar' 15-12.2020 Righ: Bac< Ana GIo5 08-12.2020 scibia Croali Sebi Croalla EHE Righe Wing Iuliiaalariov 08 127020 Netherlands Hungary Metherand< Pivo: Uion Blchm (gioug matches Gtoup @ standings [ndividual awards 12.7020 Romaria Germany Germany li Poin< Youaname: un Nonwav Poland Nonvav Nonay cansuansotensen Most Valuable Plaver suine Btedani 12 2020 Poland Romania Romanie Germanv Bestoefensive beatnice Edwice 2020 Germanv Nonvay' Nonvay Romania Stake goalscorer Lois Aooingh 0713 7120 Gefinany Polaod Getmany Polaog Ivippsh) 07.12,2020 Romania Nonvay Nonvav Gancs Srafath Mina seron Piayef\n",
      "{0}\n",
      "==================================================\n",
      "Observation 1843:\n",
      "Original Text (filtered_image_text): the winter NHS narrative Guhaian 2012 2013 2014 2015 Fuhllesensicespolloy Hospitals 'fulltobursting' as bedshortage hits danger level [xuthatesat mnorcthnadoentstsaemoiyuey luhssu FalerunathndainhSSOMI prlormanced DnsCampbel Hlospltals Hospitals scramble to prevent More patients; overstretched Hospital bed occupancy rates crisis in NHS's 'toughest ever' doctors isthe NHS facinga hit record high risking care winter winter crisis? MSbuorurunyuateuluhurtlunBskcan eay thnkolrobkmnssuchasInfor tonsan MiSdruy dcfauunesnsanne pulingout Atsarealrcady swamnpadandlhcoklsnuphunt Oilalyocilicicsuess hesore todaluuhimpatofladuvather Alu1 4t/21/yz onulirabuk Iaroonsidulque Dents Campbell Incathcorresponukent Dxnls Campbcll halthcornsixondknt 04ni I7no {0881870i 30uong 2016 2017 2018 2019 Irnltaks Hospitaks Hospitals Hospitals in England told to NHSbosses soundalarm over NHS intensive care units Hospital beds at record low in put operations on hold to free hospitals already runningat sending patients elsewhere England as NHS struggles with upbeds 99% capacity due tolack ofbeds demand Ikalthsnkrnxubta askslyrpiaktopın Bushuxtas svonptingconoumn lornuknt slty Eclushe-Dodlosci Rox olunits snduwpattents Morvthn I7ooohukhnrbnncurhtonthln55 nolthat pLnmıonvtatknnsmadnetonul aubłovron(Q minter Mvatlwranlankintau tootherhopalsanude thatensteinzoio mchuavailkarı Qurlmn ( nuoIluoubcn chronrshorlaks Dcnis Cumpbell Hcalhpohyahtor Denls Cuuphell llcalthpolkyalltor lan Sampleand Mcather Stenart Denls CumpbellHcalthpolicyeditor Unnkn ah t 1 t PaessuaC NoEeuals Woe\n",
      "{0}\n",
      "==================================================\n",
      "Observation 1909:\n",
      "Original Text (filtered_image_text): ons mar ıkk Side 8-9av 32 @E 888 @ Q Villsmitte i Østre Toten - strengere krav innført Unødvendig bruk av makt LENA: Jens Petter beccca sctsuzs gjcnnom de stste ved ukenc Uacu un Oxins' Ødegard Styrke ket oer det som ble kommuni- huset pá Lena mener ~utkoxnmun-iyiriact Østre Totens nedsten- Den dlalogen har ikke vært Qnlog. Jeenencructiuicslc ginger helt uteav craloseting palavcst niva hcle proporsjoner Han velen Dcteingen lakk (o dC{ føler segmakteslos morde sinn det blir lagt Memnn (espckien  over egen fremtid. ixodewrd , Jokgex PEueKsek Han tor Icyineca tiltaks- nndupkommunonlkhard Folk gar nndLhersamom urtorgomndiGhodnteng Ue cr daxlssyke med nlskot 08 Mnir Kng slke tull pıkKC mennvormvchlcr tiltak, sa blir det fort stengt len- Iider Droueand { CFICUel cr jcg Ierd for, S84 Mandagens CKSoioinTnC Odevand Koulnegiyennu Del<(l Vcdtok strenecste Smittetav kontaktflater kotonatulakene Ostie Tolcn Setsus illottuetie Kommu- kommnofk na d politikere om flcre har oyuie Sieoge (Cings blltt smlutershkonukale scict sitt forbinocisc Mc Siytkchusci Wc smlttei snticulbnudo Hesle uten Jt det var noen andre pi foler de toraluisseil Ueninkssenleek dIg bruk Miylson nen bllut smuttctharucntusenlerctna OctIkkenal Vftnocnanldic Reagcrer dcr. Dette btyraltshat det hu ble det oppda- SCC sMttc [ienlngs Kclallokoronisililledehluou Vul Lar trent scd StykchusctnLcnı Vurt smittededer Ferk Ahharsalvrkkluin Picster ble smtrer Videre ble formert om hvem det kan Gjel - Gulrkonlkh Hvoechn Surn snlitict WCHIC tok Haskt a9 skjcdd. orekson ot Senye Suil <n Jeg kan veken avkrelte Mcnocanan And[CtC cller bckrcfte nOC, jCg Yct Nlnessenlc unmuneo Ikkehvem eller hva det gJelder- Kastes Undc Pinsc\"n klokan Dctharicrikke Hal ICintor ROGUE netavutbnkodel. nLstononserhan treningssentrefar skylda for det,fdlerjeg doonosie Smittesporing blit (a/net nden nyiten, Oppland Ahucrbld sicr Odcgard Oppnnd Aibci provd komme kontakt mcd deblaad Kommuncoytiee Rebraa Forskrintene medtiltaksniva Sctsaas kommcntar ulcn (hoyl n Vau Iykkes- kommuncstyict MumaS Ordiuici Bor Hewcstad tor ' gard kallerdci aunexdvendie klarer felgende omn der suenge nuaktbuk nirumanycdiokmanda  Olcgard mener Suicnge lilie a tullakor ikke henger p Mcip tuasjonen under kontroll , men meduankemoctaktuelesmit Vi kan 0rsJ ukontrollen tooikknakommujun Glu-7skcyl Vi har Smulanna aot aktive på freda - Akkeklarer SMlllesno RESPEKTLOST: Jens Petter Odegord tok selv Initlativ til d stoppe spvednen @v smutten Komunenmen Toler segtrakket pa, Noaenvenfoaeolnnls FOToGspnamunorudsovhaug Ken, okhar do Kalt ned I1l 25 Ok dci cr0 skumicil mandazorlikesclsctterdeinn scl; sier han. Helgestad fortek skkcr Oslo 0 Viken na, sier Hunlavcktmaenwakorstor en stone del nannasheci nen oppleversitt hevestcantall Ncis det er den generelle si- pabud om stengte virksomhe enda strengore Mltak, da vıl /g nakuonen kamnmer (ra Heleosuduoa, muhghcter Ulholde n7 kan hoke apent, var Ln- smiode [LLLs lenuxnhiskykdı Da ter, 0rsahans Cecl (cninys Darunoiuendi Annu mutcrtc Viusvanan: rngslivet igang  nckonforhvortormanikkonar nosmittedecrdcallerstor ingen som vct hvor smuittsi senter Forstardu kritikkene i Ucilgidounlul Mosurmneegieu Enda strengere allud alshnlng Cnua Siiciecte Mllak Seilnrhau 4urisl IHooa Oonsla  N, Oppso Mnlur[ Asl Uctmutcrte VnececoMc Rcbccca Sctsa1s Kommu Sucne VCIC tuasionen okcnac DCr den pı UCniscntci kencYICACI Oct osaucniies Savner dialog Sutlsoml Usykdonnicnkal Dliye Ixsknal 84i Opp Mlot hva slaps konse  Helsesld Ilvn dalo,slet Heleestad. deterhelt ulfeklik serhun  Senliel. Da har han Ikke nue Odcgardhar povdaholdledialo- endeo erabsolutt viktigata hvorfor man ikke hever tiltaks henser traken goI grunn til at de strengeste Frdcurcninrsscnurosam Odcrard brukcr ord som YaIcncr har EenMnoi koiinliiuflue R' paot, sucicil Ucl Sonl Nivalci Yiicoigeie Mllaksiiya B aaaiinung Iiaka FoMMeenfeolu - harskylda? makleslos ILU OCIC clgeragi slenilclgesud. ndlierı spredu\n",
      "{1}\n",
      "==================================================\n",
      "Observation 1921:\n",
      "Original Text (filtered_image_text): 96 Informasjon Informasjon Minc filer Sist oppatcrt; 3003,2021 Dlgital hemmeoppfoiging Osio komimune undercopicloing covio-19 Oslo kommnune enien forci cuer pavist sm llet, Jwadi Ju Kan Vac Sitiilel Hvis Ou Dlu alvorlio syk(1. felges av lege Denne appe envneso[ oocoaqe Symplonen {arverring heiselilstanc Din cppgave Glenncm denne appen skal duhver dag svare pa scaireskiuina oi7l digu Iilslano Gyenlliee VogVehiinc Base vnnl Yises Oelnvor uvoilige dine symptomer €6 resulaiet sendes avelingentor sMuevoin h\"delen loperde vurccreiwvo:oun Qu skalgics Op> YCu orverinc Uukan Desvare skiembe Mere Oanger| eper hvis symplomere dine Uivisler 809 ma sende ssenaer lcr klokken 13.00 aruonavvare apningstide Ikke motta skjema vII kontakte deg Kontaktinrormnas o1; eionnummeesMevno: 520 Acnlngstider smittevern: Hvardager; 08 00-22. 00 (Talcfontid) Helq 09 helligdoger: 00-20,00 (Telefontla] IMerk Sporreskjema má Lesvares {cr klosken hver dag) Akutt forverring Hvls du bllr akutt dårligere skal du onrakne Legcvakien 0s 0; 116117 Nodiclelonen 113 iormiasion omnnvordan Moler Roookgouis Dosfokakvons: SperreskJema cu skal besvere Inneholde spersmal om din temperatur, Frls Og pust Pf konmunen sine nellsider uner nlormasicn omnvoroan enerimalerfemperatur oust Fuls-tclg denneenkenogMe Iioinasinn hups:wxosloKommune koronayirushl ca-provesvarletter-kctonatestenlainital - oopiolaingr MofoiasionoMsonp cdnnscndino) Skcila beskjd grann eller redsone oager Oine seivtacoorterie symptomer P3 siden , d3g* kan om din {ilstand Goronn aui ltor(edsonc DCnng Gnueci se (kke automatisk na{ senderinn Sema2 Denne sonen kan endre seg nar smuteveinsleamet benar dler aule innsenale skiciva Forkiaring pa uistand: Gronn sone: dine svmpiomer virker & væere milde Gul sune cine symnotorer visker  V2a moderate llegehjelp vurderes Rod sone dine sympiomer yirker Yære alvorlige (rask opple ging ncavendick Personyein Denne applikastonen registrerer ikke hvor cucelinnef degelerhvem cuhar kontakt Alle opplysninger scnlagres om din behandles pa slkker mate 09 dolaer Strerge requlennger For merintormasjon Fersonvern cg slkkerheten rundt dine coplysninger Oslo korTunes personv 'ernsorkkæring In'ormasko 7av Cagen\n",
      "{0}\n",
      "==================================================\n",
      "Observation 2318:\n",
      "Original Text (filtered_image_text): Arsrapport 2020 Folkchelseinsulultet Bevilgningsandelen sier noe om hvor stor andel av instituttets utgifter som dekkes av tildelingen over statsbudsjettet. Tabell 30 viser at bevilgningsandelen er 78 prosent { 2020, som er en svak økning fra 2019. Inntekt fra bevilgning er per 31. desember 2020 på 528 mill. kroner, som er en økning på 19 prosent sammenlignet med resultatet fra 2019.Økningen henger sammen med bevilgninger som følge av pandemiarbeidet. Sum driltsinntekter per 31.desember 2020 er 948 mill. kroner som er 11 prosent høyere sammenlignet med tall for 2019. Tabell 30 Bevilgningsande 2018 2020 Bevileningsandel (belep hele tusen) 2018 2019 2020 Inntekt bevilgning 340 386 286 476 528 112 Sum driftsinntekter 736 967 1 761 443 948510 Bevilgningsande (motsatt sammensulling) 77,17 % 73,04 % 78,42 Inntektfrobevilaning sum drlftsinntekter henter fra resultatregnskapet Órsregnskapet Bevilaninasondelen viserhvor storandel innrekrene son Anytter somfunnsoppdroger Fro 2019 er bevilonina oa bevilonnosande pereoneretrer boklcing morsotr sammenstilfing (bevilorng ' forhold til forbruk) Tiabaere ble det benylter rnottart bevilonino 1tillegg til inntekt fra bevilgninger har instituttet inntekter fra salg av varer og tjenester; inntekt fra tilskudd og overføringer og andre driftsinntekter, som vist í tabell 31. Driftsinntekter er hentet fra resultatregnskapet i arsregnskapet. Tabell 31: Driftsinntekter 2018 2020 Drittsinntekter (belap hele tusen) 2018 2019 2020 Inntekttra hevilgninger 1 340 386 1 286 476 1 528 112 Salgs- ogleieinntekter 258 151 282 342 207 042 Inntekt fra tilskudd 0g overføringer 121 443 179 422 207 766 Andre driftsınntekter 16 986 13 204 590 Sum driltsinntekter 1 736 967 1 761 443 1 948 510 Inntekt fra tilskudd og overføringer omfatter blant annet inntekter fra eksternfinansierte forskningsprosjekter, herunder fra Forskningsrådet, EU og *andres, soM vist i tabell 32 til tilskudd og overføringer inkluderer disse tallene andre salgsinntekter tilknytning til eksternfinansierte forskningsprosjekter. Tabell 32: Prosjektinntekter fra eksterne finansieringskilder, fordelt på Forskningsrådet, EU o8 Finansieringskilde (beløp hele tusen) 2018 2019 2020 Forskningsradet 112 578 108 538 947 34 061 27 950 13 014 Andre 58 778 57 626 38 409 otalsum 205 417 194 114 119 370 Arsrapport 2020 Folkehelscinsutultet Figur viser fordeling av inntekter på finansieringskilder 2018, 2019 0g 2020 tillepg Ogsa andrc\n",
      "{0}\n",
      "==================================================\n",
      "Observation 2441:\n",
      "Original Text (filtered_image_text): legemiddelverket.no/Docum  Meldte mistenkte bivirk.. https:llegemiddelverk . X Tabell 2: Meldinger fordelt på alder Alderscruppe Ukjent 12-17 18 29 30-39 40.49 50-59 50-69 70-79 80-89 Totalt ' locr Ahorlire 4 765 acainaci aloniec 5355 4676 3 791 71670 Mcainacr ol e Ll 5312 4s l e 20394 robcilcn viscr onio Divirkrnosmclnnacrsomchicrdiq Ochandkt meidmnger oldersorUDP Uc t Aeotg oVeef Korieniorenaoee Kommentarer til tabell 2: Dlebarn mottatt OB behandlet 20 me På barn under 12 ár som Gjelder barn som ikke selv er vaksinert Det er meldt om ulike symptomer hos barna etter at mor har fatt vaksine som for eksempel feber, magesmerter, kvalme, uro utslett eller forkjelekse; Hos fleste diebarna oposto symptomene dager etter mor hadde blitt vaksinert Slike symotomer ersver vanlre nos sped 0B småbarn, 0B skyldes troliß ikke mors mRNA-vaksine mRNA fra vaksinene passerer Ikke overimorsmeik inger omhandl Syplono eiler har {att Vaxzevrla (Astrazeneca) Atte meldinger omhandler symptomer hos barnet etter mor har fátt Comirnaty (BroMTcch Pfizcr) mcldinger omhandler symptomcr hos barnet ctter har fatt Spikevax enavmelcinrene klassifisert som alvorlig på grunn svkchusinnleenels € Jet er renerelt lav terskel for lecge inn smá barn sykehus. Barnet var bedring mistenkte bivirkningene ble mnclal Hendclsc eutervaksinasion meldes mistank  Og det noen arsakssammenheng Alle meldinger teller med rapporten, uavhengg av om hendelse antas sammenheng med vaksinasjon eller IkkeLesFHls radullammende @EEavIde Uno( bivirkninesmcldinger eciaginr Viscr hyppigere meldes bivirkninger hos yngre voksnc enn hos cldre voksne Dette kan skyldes yngre ffr sterkefeImmnunresoons merkeemer vanlige bivirkningene_ Stofie melder for yngre for avklart om det bivirkning eller ikke. De yngre melder også i storre grad bivirkninger selv. Alvorlige bivirkninger Det er sa behandlet 766 meldinger omhendelse somklassiiserersom alvorlige. Dette utgjcr 18 % av alle behandlede meldinger. ororiterer behandling alvorlige meldinger fcrst, slik at de ubchandlede meldingenc słor{ selt Inte alvorlige meldinger. Hva er alvorlige bivirkninger Generelt klassifiseres mistenkte oivirkninger som Ivorlige nár hendelsen: Giłt vedvarende betydelg nedsalt funksjonsevne har medfert Instruenee sykdom cller ded nedfortfosierskade mediodtemisdangelse en usopphcld Iler forlenget sykehusopphola EMAs iste ove viktiremedisinskenencelser cie-Ilsten Sykehusinnleggelse den vanligste ársaken tl at hendelse klasstfisere alvorlig og dette Gjclder 51 alvorlige meldingene. Sykehusinnlegselsen omfatter bace pasienter som lceges observasjon OB rðskt blir friske igjen Dasientermedhstruendesymptome Svkdommer Vang Skde Lcocnilddcnrrtcthar hauocrr @ort en fcl nár Orl €r bcrconct hvof si0' Ondclov Olvorlc Mcldinacnc som hor mnculesykchuxnkediy Viharbcicanci onoekn / lorhob onlolk{ Oivorligacuerilcrkr {catr DPDanfiax(dmucryr nciny Opoiyiie Je Meioirenr Meree rht Idingcr barnet 6la Crad Lrgt modfort\n",
      "{0}\n",
      "==================================================\n",
      "Observation 2518:\n",
      "Original Text (filtered_image_text): Disse organisasjonene ble som kjent grunnlagt av Bill Gates; og det er også han som kontrollerer dem Det betyr at Gates avgjør hva CEP og GAVI ska bruke pengene sine på. Da Gates er en strategisk investor BionTech og Pfizer, er det ikke overraskende at CEP og GAVI hovedsakelig satser pà vaksiner fra disse to selskapene_ Forresten gjelder det samme prinsippet for Covid-tester, men det kommer vi til senere ( ) Hvor stor og ogsâ lukrativ Gates' innflytelse WHO er for ham, vil jeg vise ved et eksempel. september 2020 gikk Bill & Melinda Gates Foundation inn som en strategisk investor firmaet Abbott; som hadde utviklet en hurtigtest for Covid-19. samme mâned gikk denne stiftelsen inn som en strategisk investor firmaet Biosensor; som ogsá hadde kommet pà markedet med en hurtigtest for Covid-19. Og tilfeldigvis kunngjorde WHO den 28. september 2020 at de ville starte et program som ville gjøre store midler tilgjengelig for å stille hurtigtester for Covid-19 til disposisjon for fattige land. Det finnes dusinvis av produsenter av slike hurtigtester pà verdensbasis Sà n{ kan du jo prøve gjette hvem som var så heldig få en stor bestilling fra WHO Klarte du å gjette det? WHO skrev: <Avtaler mellom Bill & Melinda Gates Foundation 0g testprodusentene Abbott og SD Biosensor gjør innovative tester til en maksimal pris av 5 amerikanske dollar tilgjengelig for lav- og mellominntektsland > Og nå kan du jo gjette: Hvor kom de pengene fra som WHO sâ generøst; via Abbott og Biosensor, sendte rett Bill Gates' lommer? Riktig: Pengene kom fra Covid-19 Tools (ACT) Accelerator; som ble finansiert av EU med midler fra giverkonferansen mai 2020 Dermed er ringen sluttet: Gates grunnlegger sammen med noen andre ACT, som får EUs penger, og som da via WHO overfører dem til selskaper som Bill Gates har en eierandel Det er forresten det <kvalitetsmedienev kaller filantropi\" https:/ /derimot no det-avsettes-store-summer-til-kampen / POStED HelSE Viakelighetsforstaelse okohovi Det avsettes store summer til kampen mot Covid-19. Hvem får alle helsemilliardene? 12 FEDRUAR 2022 ogsà\n",
      "{0}\n",
      "==================================================\n",
      "Observation 2586:\n",
      "Original Text (filtered_image_text): Covid-19 er ikke den eneste epidemien Så hva gjpres? Svaret er: Autvikle og produsere nye og vedlikeholder utstyret, en TUBERKULOSE altfor lite. Arlig har fire antibiotika er en langvarig 0g profittmargin på mange ega Ditlu 09 millioner mennesker med kostbar afficre tillegg skal hundre prosent. a Drage tuberkulosc altsa nesten medisinene brukes halvparten avde som blir sparsomt for unnga resis- Til sammen vitner dette omn en syke ikke tilgang til diag - tensutvikling, og selges til lav politikk som setter det frie Nå har vlalle sett den globale nose og behandling Og den pris- Det derfor fa farma marked og patentlover foran ulikheten med egneoyne: Vi globale tinansieringen av soytiske selskaper som har a redde liv. Derfor det helt har mer nok koronavak - tuberkulosebekjempelse er interesseava forske pa avgjorende at flere produsen sine til oss selv mens de ikke engang halvveis tilá nå antibiotika. dag er derfor ter kommer pa banen, OBat fattige landene gar uten. Selv målet som ble fastslått på tuberkulosebchandlingen produkter blir utviklet og nar vi sKJonner at det er til hoynivamgte FNi2018 den samme som for 70àr tilgjengeligEn ny tuberkulo - vårt eget beste stoppe spred- sıden; Iire typer antibiotika sevaksine kan forhindre 50 ningen av viruset i alle land, Som covid-19 trenger tuber - daglig i minst seks måneder millioner dodsfall fra i larvi pengene råde. For oss kulose en ny vaksıne; nye GJennom arhundrer; 0 2050. Men millioner av fattige r jobber med tuberkulose  medisiner og enkle tester fortsatt dag; blir tuberkulose mennesker utgjor ikkeet en sykdom som spres vla Selv om vi lenge har visst at diagnostısert pa Bamle maten KJopesterkt marked Juften 0g som rammer den hundre år gamle BCG gjennom mikroskopet. Forst Uten behandling er millioner hvert àr; var dette vaksinen ikke er effektiv nok 2010 kom endelig en ny og tuberkulose en smittsom ikke uventct stoppetuberkulosepide- mcrmaderne test, Gene- sykdom; 0g flerc kommer tror at tuberkulose mien, er kun en tidel av den Xpert, etter at millionerav dertor til ta tuberkulose er utryddet.Det er den ikke nodvendige fnansieringa pa offentlige midler var blitt fremover Til syvende og sist Tuberkulose; også resistent Diass Resultatet erat det per brukt på utvikling og lovnad erdette ogsa villet politikk. luberkulose; tnnes alle land dag er 15 vaksinekandidater innkjøp. GeneXpert Eller mangel på sadan. verden 12020 mistet så under utvikling for tuberku- verken enkel eller rimelig: Luclca Dltlu, mange som millioner lose. Til sammenligning er ni Hver test koster nærmere 100 direktør Stop TB Partnership mennesker livet. Mange 340 vaksinekandidater mot kroner; Og gU det amerikan- Drage, fattige landOg de som dør er covid-19 utviklet og godkjent ske selskapet Cepheid, de daglig leder [HL Internasional blant de fattigste der iløpet av toar eneste somn produserer; selger mona drage@lhl.no dgse dag oEsa Mange Mona\n",
      "{0}\n",
      "==================================================\n",
      "Observation 2677:\n",
      "Original Text (filtered_image_text): Spår nullvekst og enorme sosiale følger i Tyskland: Sårbar kjempe KRISE: EUs største økonomi står over for minusvekst og den høyeste infla - sjonen på 70 år: Det skyldes ikke bare energikrisa. ANALYSE Mathias Sonne, Inlormation Tyskerne elsker undergangs- fortellinger: profeter som spâr nedsmelting verdensokono mien,hyperinllasjon som 1920 arene og avindustrialise Ting ay andesonineg veraenskuognolocaust banasrenharDasertIdentte ten s1n paoxonomısk SUYTKE Fortidanar fortellingen om tysk nedtur igjen en opptur; Det skyldes ikke bare den tyske inflasjonen september nadde 10 prosent hoyeste på 7lar MeD også de globale prognosene som INFkom med Jorrice MØRKE SKYER: En mann med paraply krysser plassen foran operahuset i Frankfurt. torrige uke varslet  Tysklands nærings-og klimaminis- uke: Yerdensokonomıen Robert Habeck at den págáende energikrisa snart vil fa store økonomiske 09 sosiale følger, FoIO;Michael Probst Apinta overtor utfordringer med energikrise pandeml Europas syke mann  euroen som med sın relatıve 90-tallet, har seilt på en bølge inflasjon 0g gjeldskrise som Fakia Gjennom liar hadde svaknetrornold UILD-mar av innovasjon oc blant annet skyldes okende renter 0g Krisetid Tyskland: Vest-Tyskland bygget oppen ken var en velsıgnelse for den blitt uavhengig av energiim dalendeaksickurser Prisveksten } Tyskland bikket slagkraluig industri tyskeeksportokonomer port, star Tyskland, verdens 10 prosentiseptember liberaliseringen av verdens- Dermed oppsto det på {erde største økonomi, Bare Russland er verre heyeste nivðet pJ over handelen og oljekrisa 2010-tallet et gyllent tiår for veldig sarbar stilling . Om hele verden nå må betale Det spås at økonomlen vil 1970-árene 0g cstblokkens den tyske eksportmodellen Bade energikrisa og prisen for nullrenter; red - falle med Droseng 2023 sammenbrudd fra 1989 med økende realinntekter og inflasjonen belastende lor ningspakker og bobler innen opplevde den tyske eksport- lav inflasjon samtidig som den tyske pasienten.Og statsgjeld, aksjer og boligmar- Energiprisene har skutti okonomien sterkt konkur- dieselskandalen ble til bildet snikende avglobalisering og VærebetteratRusslandhar ked, er fortsatt usikkert. Det ransepress_ kom den pa et land som provde : proleksionismecr farlig for er sikkert.er Tyskland gjengjeldt vestlige sanksjoner tyske glentoreningen som var skvise mest mulig ut av en den tyske eksportmodellen ifolge IMF vil rammes med stan< gassforsyningenc_ fryktelig dyr; og en gigantisk utdatert 0g fossil modell. Et fall i BNP på et par hardest av alle industriland i Tyskland  har vært konjunkturpakke for den tross overskudd på han- prosent iet av verdens 2023 bare slatt av Russland. særlig avhengige russisk vesttyske modellen. EU-utvi- delsbalansen 0g statsbudsjet - rikeste land kan kanskje Som også den tyske rammeshardest delsen og ikke minst apnin- tene har investeringene høres ut som en sarl  tiltrengt regjcringen slo last i [orrige Myndighetene etablerte gen av de kinesiske marke blant annet infrastruktur og hestekur i en verden som uke; str landet overfor en nylig fond pá 200 milliarder det forsterket konkurranse utdannelse ligget på om lag to likevel ikke tåler evig vekst, resesjon og en minusvekst pà støtte til forbrukere 09 Dressel og lvang Tyskland til procentav BNP dermed langt Men det vil komme til 0,4 prosent, bedrifter mot stigende priser brutale velferdsreformer:  ejennomsnittet i EU. hindre den grønne omstillin Dessverre det besteuse NderNTe Landets ~sosiale markeds- Dårlig planlegging; føde- gen av bade industrien cenorto en tyske økonomie 0g fokus på rale problemer Og tungt energiprodeksjoneneDeg vil gen har fylt gasslagrene men industri ble hanet av nylibe- byrakrati har sultet ut hindre den tyske hvis det blir en kald vinter; milliarder euro for avlaste ralismens Lilbedere. Men de områder som utdannelse, opprustningen 0E geopoli - kan det oppsta en mangel forbrukerne og industrien . matte snart bite seg latteren _ infrastruktur og ~ ialler størst tiske omstillingen til en som ramme Det har gjort dem upopulære Fra rundt 2003 ulviklet Crad digitaliseringSamti mindre global økonomi, mdustrien hardt og skape et ule _ Europa fordi det hındrer Tyskland seg til et økonomisk dig så Merkels regjeringer under Olaf Scholz' stikkord prosent neste ar andre lands konkurranseevne eksportmirakel med hvordan produksjonen ~Zeitenwende- (Vendepunkt). Og selv med beskjedent . på det indre markedet. enornt handelsoverskudd solceller og vindmøller gikk En større nedtur vil kreve all i veksten krymper Sum det sterke fallet i darlig Energiewender massıve Fealinntektenc og kjøpekrafta Har stått lagellg til for krlse den globale ettersporselen framsto som darlig vits. masoivetiesniegspd keecg pa grunn av inflasjonen Men 'Tysklands  nedtur sky]- gled raskt gjennom Inans- 0g Mens USA , som hadde svært store Let land med På onsdagens pressekonfe des ikke bare avhengigheten eurokrisa Ogsa kraltav okonomiske problemer pà sorektetoreogonomáskæev advarte den tyske billig russisk energi Lan- Erad klimaministeren det har også lent seg pa sparing egen bolig. Ellers Robert Habeck om alvorlige modell der globalisering , 0g <Både energikrisa kan vpiopbliseengasen for lider  , der tunge eksport, sterlig til Kina 0g nuerenepusketencesorelgere energikrisa stadig sterre vært en velsignelse Den mo- inflasjonen er belastende den bekymrede middelklas- holder på bli en dellen under press. 9en, OC sosial krise\"- Det er ikke sá mange som Gtrrilyalassumpen Det til , for at regjerin- husker det idag;men det er for den tyske pasienten> ilalormoi Ben har brukt svimlende 200 bare 20 &r siden Tyskland var Oversatt 3v lars Nygaard Blir ogsf Mca tillegg under mninst regerin- Ogsd  situasjon BNP-fall pa tross Gngc Dennfs Crng Gronomnisk Atross\n",
      "{0}\n",
      "==================================================\n",
      "Observation 3255:\n",
      "Original Text (filtered_image_text): et Js - al at og g En nytt er; 0g vis det de nar 0g sier 0g til å de Det er ser ut til at Var at den salg neste år kan av over bi- re- På et rike land. har idig 15.-16t oøte 11 november nar for ua- er klar ier 0g slik at  0g India et  (WTO) det 'on medisiner mot Iselv skal unntak fra get, støtte forsla- 'stemte En etsli mot. er at det er a- som har detaller 0g utallige deler av store gier sk før vi fikk mennesker vikle med & ut- til vaksiner de Det er absurd torsda kopimedisineg; sier sa også at WHOs- per skal få Segteeniddelsel Iska Arne Vi kan ikke ha den samarbeid vaksine- a utvikle valosinera amnoa me situasjonen sam- (Actarbeäd glerA260 cceliardor ne tviholde på 0e sa for re bare de igjen, kroner i midler: milliarder på;sier Moxnespatentet etter- Jooo som har kan få SV mener Sor- rach livreddende medisiner; Rødt og SV ber dias Sikrerrika o en Legemiddelfirmaet Pfizerl Norge snu beskyttelse  for patent- Biontech har allerede Rødt og SV har levert spørs- vaksine senoesedisiner 08 håndssolgt for- mål om saken til neste ukes siden det  bli rike land mesteparten av spørretime Stortinget. vil frivillig lem- den planlagte vaksineproduk- Dette handler pe på beskyttelsen. Samtidig sjonen til rike land. om hvor- vildet gi land mulighet WHO-sjef vidt mennesker fattige land til å produsere legemidlene- Tedros Adhanom skal få tilgang til vaksinen Da langt lavere kostnader: hebreyesus advarte torsdag må man velge side og trekke <Det er svært alvorlig at plge NTB mot det han kalte lærdom av den tragiske histo - gjeringen velger EU, USA aksinenasjonalismes, 0g rien hvordan patentrettig - legemiddelselskapenes tiserte land som kjøper fle heter   sto veien for   fattige framfor det store flertallet endelsorga- Sor - midler- htentregle- avtalen. Ket var kunne medi - viklings- HAVNER rganisa - BAKPÅ: rundt vaksine {ganisa - testes FaktA Sør-Afrika= uten ijuni. laget. Vaksinekrangel: Fattige ' land ] frykter at de ' Mandag 'vilsta varslet ' bakerst i amerikanske kaen henholds- delfirmaene lands koron tyske tilgang  'legemid- Pfizer, Hasøy- covid-19-vaksinen hivmedisiner Rodt-leder Biontech nes. inn Bjørnar være verder utvikler, Mox- 'vellykket. lobal Han  viser , håp Norge _ Kampe Sør- Havner om internasjonale bidrar den kningen Norze  bakerst komme fors- ikke Mesteparten  vaksıner forhåndsbestilt standsbudsjettet Audun lederrolle Kass Klassekampen tatt for internasjonalt Trips-rådet = sikre tilgang Konsensi land Verdens oktober fattige handelsorganisasjon ! foreslo Dertor vaksine Klasst patentreglene, Sør-Afrika mener han uholdbart Krunnet fattige midlertidig ' 'land ikke Norzes covid-19 kunne Norge produsere vaksiner annen ting VIFRE fellesskapet, tatt kostnadene døde vaksiner tilgang billigere søkkrike enn trenger. Han hun. Noree kuns der råd, forslag fattige om\n",
      "{0}\n",
      "==================================================\n",
      "Observation 3280:\n",
      "Original Text (filtered_image_text): Ridkae Oalcn ne  Sck / Wkidpdil T-skjorte FovkCao Micykou esk orte Ttroy( sknne Irere [ed felle Iliier 4icr Iile Gincr Soin hii uen (oni Oupiiiriliil den Lale bur slII Ui Jerskiurle Ivnided Ueljuy vanllo 4 biuke bare T-sqoite lonnele nmennener aaieE9kiodeneyalenge vne bcoulsrlanc mende aiter hvettanei Iarner menmorerer eller Datrykt [eksi Tsaoirar hnıkt bar uinn Voksn mcst ncoilarrc blarr Inndam Historie [ediei [eulei Kil dehuvenmedlom Evone te Menioue Yercenskn Dkk Aledde soidaler Ira Usa Pynenb oro ele honulteplangena evonaiske soldaler Unloi crkcarekc soidatcnc tonrrr tukodssc anocyconenskik hkk dr aid Liceitvy Ellerkluen beuynle [a uler skiorie Uver aineikanske Ilmsueinen  Warnie aon Yisie S20 iainsen Unin Hoskcn nrrak ctrohennhn anktg sil skirio IMon Rorłs 119J07i 1555 Isortu Maleriagn 7 loellerron Vnenle sewve Hieqhel Mundelave Qish (anei T-skiorie ulen emer . larne ermler Denynre Agaoirir Taroc (skoonrfin? Etornyrnbl oorhoir Ya o Maunrykke AnCroc klamr Se ogsd cuinor Jlde Snhier Jank IoD T8ve Gkcfaofr Urderykue Fkslerne lenker (aoinpn ivp Kripong bigar Vhenaicuiyn Lnmons Dotalikuscuin Skicgie Dhilalllseun Sesoki 21 ulonlcesdala GNC O LCCN - NDLs Kaaooner Klesolan] Urdertay iozne Ione{nen UI ledhoit 4 Vimlel #alahieloWmi Coiik S-eciicpii Narikiyes-Cid Vkutnen   Iimibuerreeilgmhhi Mai hnsren etalar Puou Pu Glo Hon Kasl Gih une\n",
      "{0}\n",
      "==================================================\n",
      "Observation 3334:\n",
      "Original Text (filtered_image_text): 1| + of 8 Automatic Zoom hos Foucault DrOVOSCIL De som hans vart verdsett med kun ville sc nylibe- A kreve at Foucault burde hoge ulmerkingar badc For meg derimot er det konsulent  Trondheim ralismen som el farlig virus, lavnet bredere sinc Frankrike og Noreg neltopp det dynamiske ved kommune. Jeg havnet midt i likte ikke at jeg omtalte den 1979-forelesninger er en form sverlekampanjen mol ein analysen som appellerer. overgangsfase der norske nyliberale strømningen som for latskap. Det er vi som må landsmann som kom ut av Foucaults hisloriserende kommuner tok bruk tonivä- en *avansert styringslekno- gjørejobben analysen krigen med svekka helse, blikk på samtiden, har jeg modeller; resultatenheler; logiv en subtil mäte skal bringes fram mot vär lid det stor aktivitet fra eit funnet analyscredskaper av enhels- eller lederkontrak - forme bäde samfunnsulvik - Svein Hammer, miljø knytt til den norske verdi boka Sosialdemo - ler; resullalmälinger; lingen og mennesker; via fortatter ambassaden og den norske krati versus nyliberalismev inndelinger mellom bestil- resultalmalinger og andre svein_hammer@gmail.com klubben i Paris.Ein tidlegare norsk konsul som ikkje fortener namnel her Om_ Flere utenlandsfødte dør av covid-19 taler brev til det norske utanriksdeparlement at Holsts framslilling av sommeren allerede ijuli grunn til at det ikke skal væære innsatsen mot tysk okku- KORONA viste slatistikk fra Sverige 0g tilfelle her pasjonsmakt liknar mest Amanda Hylland SpjeldnæsEmma Lengle; Sine Grude, Ida Slorbrilannia hoyere andel eit Munchhausen-eventyı Sofie Rettedal Skjæveland , Anne Kvelm Lle, Patji Alnææs-Katjavi dode blant utenlandsfødte. Likeverd er en av dc fem det same ambas- Hvorfor har ikke helsede- verdiene som ligger til grunn sademiljøct som 1937 partementet krevd at denne for de norske prioriteringsan - häna nordiske spaniafrivil - Koronapandemien har døde blant Afrika-fødte er statistikken skulle ularbeides befalingene av vaksiner. lige ogdet svensk-norsk blottlagt og forverret sosiale nesten dobbclt sa stor 0g tidligere lys av andre lands WHO anbefaler at vaksinene hjelpearbeidet ved sjuke- ulikheler mange land andelen som har moltall erfaringer? Hadde man halt bør uldeles på måter som huset i Alcoi under borgar- Etniske minorileter har blitt respiratorbehandling over disse tallene tidligere kunne TcdusereT urellferdige krigen ) rammet hardt pä grunn av lav femdoblet, sammenlignet man ha forberedt seg på helseforskjeller basert pi sosiookonomisk stalus med norskfødte.Delte til candre bolge  med det etnisitet. Vikan ikke forslà Wilhelm Holst kjempa altsä därligere tilgang til helsetje- for andelen med alvorlig ulgangspunkt at innvandrere annel enn at med den Kunn ikkje berre mol fascismen nester; trangboddhet 0g utfall burde vært lavere gitt at fra enkelte land var en utsalt skap som na forcligger om Spania og Frankrike. Han arbeidsløshet. Detle er godt detle dreier seg om en gruppe som mälte prioriteres risikofaklorer for sykelighet opplevde også bakhaldsan- dokumentert ien rekke vesentlig yngre befolkning pà samme mäte som eldre og død bør ulenlandsfodte fra grep i etterkriestida fra sludier; 0g grundig analysert. ennde norskfodte. de angitle omradene væære folk som slelt ikkje hadde Norge har mediene blitt Det er langt pä overtid med blant de prioriterle när utmerka seg som anti-fas- fremstilt som anncrledeslan - lalle innvandrergruppene anerkjennclse av at vaksinene skal deles ul. cistar på 1930-talet og dei det: med høy smılte blant rapporten har over dobbelt sä koronapandemien ikke bare redusere smitte blant første ara av verdskrıgen ulenlandsfodle. men IKKC stor andel som har lall Tammer ulikt, men ogsà dem som har høyest rIsIko for da Hitler hadde vind høyere dødelighet. Nä har vi respiratorbehandling Fam dreper ulikt Utfordringen alvorlig sykdom 0g død vil segla Denne siste striden tall som tyder pà al det ikke menlignet med nordmenn ligger nà hos landets politi - bäde være humant og kost - forkorta kanskje livet til slemmer. Bade andelen Til tross for små tall grunnet kere; som clter var mening nadseffektivt. ein helsesvekka mann som smitlede. syke pa respirator fa respiratortrengende 0g ikke har noe annet vale enn à Amanda Hylland Spjeldnæs, døydde berre 54 ar gam og døde er belydelig høyere dodc totalt, lyder detle pà at ta grep. FHIs nye rapport Emma Lengle, Sine Grude, mal.Ein kan undre seg blant utenlandsfodte enn korona har gilt økt alvorlig gjentar at de enda ikke vet Ida Sofie Rettedal Skjæveland over at 5a som alle blant norskfødte; ifølge sykelighet og dødelighet hva den økle andel alvorlig medisinstudenter ved UiO bokmeldarane har overselt Folkehelseinstitullels rapport blant ulenlandsfodte ogsa i syke og døde blant utenlands- Patji Alnæs-Katjavi , denne kampen som desember. detle landel. fødte skyldes, men vi kan fodselslege Slapgard sà grundig har Statistikken kommer et ikke vente pä sikre svar Når Anne Kveim Lie, dokumentert. Rapporten viser at borgere halvär for sent. De fleste hele pandemihåndteringen forsteamanuensis ved Institutt for Jon Olav Myklebust, fodt i afrikanske land har vært koronarelalerte respiratorpa - har væært lagt opp ctler en føre Helse og Samfunn, Uio Volda hardest rammet Andelen sienter og dødsfall skjedde for var-stralegi, er det ingen ah.klie@medisin.uia no Romonvoldano 28 Torsdar 17 . desember 2020 KULTURRMEDIER KLASSEKAMPEN trykk  oesi (Delte ' Lross Rodl \n",
      "{0}\n",
      "==================================================\n",
      "Observation 3624:\n",
      "Original Text (filtered_image_text): NYHETER Muxto NI 2021 Mbkcokcurila Morten (17): - Jeg Pobuhıemmckendet noxUs Dete har tatt alle andre koronusyrnorer Foio BoaR Fanes Koronasmittet på vaksiner; såjeg ser Bremnes-konsert Rxlaenvre Tgusn dntkn H Borg ingengrunntilå Kuenisullennulller SMSomn iniclIkRoil skalhadchart kolbscuien Andrewrantunmenext iket? ikketa denne Otnsimptonkr hrekur alenie  Slvhurkxlcller koinnluilel Jatvra Intormuepub 17 år gamle Morten Alterskjær Johansen haperat ventetiden Kugueii Ceni uestn snart er over; slik at han og flere under 18 ar skal fa tilbud Snuilicaunng Urtcrsnakk l om vaksine Sbrien [kMoticin konscılcn [kohontcn som Irorteard nrrTMen e-(li Uilenoogs Trondnel Daknronaen hrt ut var Mor unMunIci Inou lorlcllecrMlshr uee stauenjor \"kivilonlgak lloe blikum Koronavaksine nuihekketiehnlhaSul enltlalerueharneu IllgunuI ycaict har Ixlttden mchcr lont Mere Kehuuinniceeiio slinncllcrsi rnnnen Dalursjtictaeuiretri aern akorlcesykdomslorlonIelen alalocnkrupopesnikkchar aut lle le~nlleShuue Khyrlen Fosnakkon) hatttllbodMisltterstulelbaden minaklerule salatatkkell noli? hdon cidcnnrullx Inapubiikui OgVentet; Wien a Ghic Skainc Ievorrostin KiAkul Kicnulom IncUlLS VL Hogenugrokhuah ns Iuel Nrkslonet uuenT Ikkulei onnbyrshhr Fircknletills aksincr Lun [I] lalessom TaloLIcI oriuloonnciikyincn Aanet iedenn Gklngrc hrn Ilil arsikle Ten Ikt er elr KKansen Nlansc Mini MKE . Sik noiikekoonicosnunc ur IVt hekhg mxd ulund forylharaksinert allc Koronasmitte Unorriokgifa Skolen rnrI Men dcl (T 1 Jl Kaknnc derarslaao sc KIKNCE Inciuakci [DPOuloiluSicrhcuL tilknyttet sler Johansen har ikke &Ett DiCL Incn noIc unmark sverigetur Vrheenrhr AndrKane Onrurunketi innecichale alnd hinlana {Sicrlar Reludusnnhosen etlnet hloleennersiet Aifosaleeksiitingunas Lonlaohedetklentat aklhus komnuunchakletat hireme lıkItnk IxY andr :kilcr Johunsen burn ullderimar Suuladllelleraleuirolie Lnktapncrdeiagront na Grunnen enKn leuonlk Ikke gjor England Oncueue unue J6smlttenlkelkrdenneuknı komntunen Iosten Dter bdralxoc Mmmuni Iluncuau ntsaarnharhel [cteknikinlaksiytinsennni konlet hnn oerukus Aursh khnven LeiMhaiskeiiv kr lolk Sunun innhethsf ICugMlielVlnarn ogdetoandrcharklen Ius nlcrabllkllckharru barn har Kuli Vcivloitis Anak kctnnkei mtlet Ml uulen Kaksincillbuxl sict Culdainteklon ksu[ IxlIkroncll, Men iehus Iolenrsun hlanuhi norl nelnel tikuig IciiciennctrAYI komnun Mona Burkken Dlaeg lanv alil Sakslncrbarn Vaksine lolestrykgesi rnlnari Kniles Teul la[ralleeieuksiog( Jnoousieisieioin Avgjorclse utcoverhosten Iellerirenonerdudetersan Ghcllatorentamneorckyn Finnii huurnlonunen Stcinar Westin Iulavi chyxnikrupix Iacn Funn almhlnYayl Insutur hnT vurdere Ocue ahoklaulkenol Ii enne SiefKansen amrunobuulsin sykonlud isilico OruneicOT Inyninoi Farhedctcicnt at 1599 NTNU huan NicIICT Mxrr ulcinper buranderkinennavham kuertehamdaimthnndan Arieenkog tIl Sıcriec nsnioici ksieriog Menudi Kunnc KINNC Den storste frykten vnb / Enghiu der Bols John nindrc cyhk Tricunven ull oner SurIncrke Mdilginl eraværeden forste \"ailn Prkn lavttslandAen Irtl 66 elever og elleve medsmitte paskolen uli Ulr Ikk Mf Adiussuaisni ailinete mnens ~lle Konlmekon ansatte ved skole Moctrn Alfcriklrr JohonirnM Keclaisictkioeciic unconnl akleten karantene Ykoicucy ikllk bsne al rfslko Kx ahorlle Sa u kurunnuuyc( Illul hr melaln oMcnckn (yILSkanon Mone cue AliaiuMlonaun skjcr cucr houxlske SLVlurdalorsll ooclou vnoustriez r Kclkicanalie Kuranlene kenle Likinen Gkincnc Sictickioluirounn loraldersgrupon Daleaindskoke Iuinsyilllt Vdnen nnne~ ak MneTcon Foklen Annosen Ckokidig Ded ( lag kaponcn IIcklit ullle lorcue ohln UKCI-ox meldehyan Jirekteberore deretlersklMekse (ion Ciofiekal Iniomusion (ittinenlctlacibuiing dirckicluisnuliccinkonlurcl karsuulloru apphuTknilnen oonengootimmeaIl Shok ? 3 0 aik soksik nardci ILerskolencrslengl mailn Lnetr dableehuch 'it emnielana akliletl aiocrrenino Iurnniginuursu dervni lintale ( Slangedacrmnulig Set ucl Hvs svayt manoc barn bur snuttct nlcn ood Øclav dom bl Okrieueueeutueuerae VulalyharkonuulT orba Syke slik somn|Storbrilannla SrSicinn Wostin orale ssor MALYNOEY Riisiungn soslalmedsin Ycd NINU Foio JoMMYFoSsuu lAne liio lin Gr Arin huin For\n",
      "{0}\n",
      "==================================================\n",
      "Observation 3702:\n",
      "Original Text (filtered_image_text): 05 5  Q Tabell 1. Aktuelle alternativer [ situasjon, Inkludert bruk soronasertigkat Artcrnati Smttcynidcfct (coukson | UlMper ' 'Milte DRAnniekeciser) lnpen konlautrccuscicodc ngen Itenoncfleata Vanskci Cdomien Brunnlersende srnitteveroultak Oesondel Nboyenuir Waksine akontakrcdosrrcndeMMtakuten Sannsynlav cffckt Betydel 3u Llempcr [or skonomi, koronascftifikat arbcidsPlassy Dr Dcrsonlofrihrt (tor bade vaksinerte o Uvaksincric] Kontaktrciucocndc(ltar Trols noc cfort Oct €r Darc No nukMfc Vaksincrto Wnuan  Byld g Aryagoni ci 4en Arranpe Helyue ulenianlor Koroaeseninik Sneee uvaksinerYg Vakinr tc Jatuolic inmurr snuttcanarr SoM1blu utostrnst fra ulikc sosials Iceshyttedel snuttet afanremenieryil akilateter tilvua mindre Prad enn buskyticoc KnuttcanaC Otcruin? arrangenrenter <iml sele Banske codt beslytlel mor smlttc nlerei odi besky(tel (oi akorliesykoon' ontakicouscicndc (ulaliei toleNtcn ciicki Uillere(al Nocn ulempcr fcr vaksinerte 08 #nntarnroeyd Boskytrdo kan smittc hvcrandrc Uvaksincrc Sbtocvnic koronasentiflkat ogs3 for OCSsotre [es[e Sef Noen ulemnper Wvaksinantemednvlle ncealn Vvaasieaicstcaanv anoe m} sta for selvnar valel Ullstede es[uiluud Oissevilha storre cotensial enn KskytlcdeJor smitte 'dca roe 2eeean atanrconenieSmliaie (niko akorlis >ykdom Fordeler O ulemper med alternativ beskrevet Med utgangspunst sammenligning meo alternativ Dersomn ferieringen vcieer Innfsre muliRhet for lokal bruk koronasertifikat, mener FHl ar alterativ en0ve Idvs ikke sidestilling  test) vil ha sterst smittereduserende ellekt Asituaslone hevest risiko for massesmittehendelser. Dette Ileger grunn for vurderingene (osten bsvareken licee Vurocninpce(unl smicvcin (cisc koronaserllikat krevende etiske spørsrna OrdC uikc Druksmalenc koronascrillkar skissert tabellen @ver kan begrunnes ulike hensyn ikke GJere Mnora Iaksine medovl negativ test kan begrunnes redusere risiko for Indkdene sch Blir smnittel, redusere rislko lor at andre blir smitter ðv smnittelsrende uvaksinere etterkant, eller begBe deler. De etiske utfordringene knyttet tıl koronasertıfikatet ble droftet ı 30 7fHI @ppdrag 422 Bruk av koronasertifikat uten test som alternatuv ferer at uvaksinerte ulelukkes Ira tilbudet Delte hensyneł veler tyngre desto flere aktriteter og seklorer isamfunnet som inkluceres ved Rieninofgtinf koronasertifikat Ved ulvıce bruk bor argumentene for sicestille neRaliv {est Okenoeeadi vektlepges, selvom Pfcken Khtak sannsynligvis vkkes lestkapasıteten kunne bli en begrensende faktor. Foroeler orvlemper ved alternativene Deskrevet tabellen 0B under <ucnsked redenfor. Den endelige avveining mellom cenne type hensyn politisk vurdering Effek: pó vaksinos onsdekning Prinsipe NogfC vaksinasjon skalvære {rivillíR, Folkehelseinstituttet lekRer til d'Een Dcuue Nrle heis negati , 5 Mibtig\n",
      "{0}\n",
      "==================================================\n",
      "Observation 3708:\n",
      "Original Text (filtered_image_text): 19*29 man. 27, des. 0 46 % lovdata no LOVDATA Søk etter lover; forskrifter; dommer; stortingsvedtak; Søk Logg inn Forskrift om smitteverntiltak mv. ved koronautbruddet (covid-19- Innholdsfortegnelse $ 4i. Krav om smittekarantene Personer som har hatt nærkontakt; jf. $ 3 første ledd, med en person som er bekreftet smittet av SARS-CoV-2 mindre enn 48 timer for den smittede fikk de første symptomer på smitte; eller fra prøvetidspunktet dersom personen ikke utviklet symptomer; skal smittekarantene 10 døgn etter siste nærkontakt. Personer som har karanteneplikt etter første ledd og som er husstandsmedlem eller tilsvarende nære den smittede; skal sa snart som mulig teste seg med selvtest; antigen hurtigtest gjennomført av helsepersonell eller PCR-test. Ved negativt testresultat fra slik test tatt tidligst dogn etter nærkontakten kan karantenen avsluttes. Barn under 16 år skal ikke testes dersom det er uforholdsmessig krevende å få tatt test av barnet. Personer som har karanteneplikt etter første ledd og som ikke er husstandsmedlem eller tilsvarende nære den smittede kan avslutte karantenen arbeids- eller skoletid ved negativt testresultat fra selvtest; antigen hurtigtest gjennomført av helsepersonell eller PCR-test tatt tidligst 3 døgn etter nærkontakten. Ved negativt testresultat fra slik test tatt tidligst døgn etter nærkontakten kan karantenen avsluttes Smittekarantene etter første ledd gjelder ikke for personer som ved nærkontakten: a. har gjennomgått covid-19 løpet av de siste 3 måneder med varighet fra avisolering til 3 måneder etter prøvedato. b. har fått oppfriskningsdose for minimum uke siden_ Husstandsmedlemmer og tilsvarende nære til den smittede må i tillegg testes daglig med selvtest; antigen hurtigtest gjennomført av helsepersonell eller annenhver dag med PCR-test døgn nærkontakten er under 18 år og ikke husstandsmedlem eller tilsvarende nære den smittede_ Personer karantene som utvikler akutt luftveisinfeksjon; med feber; hoste eller tung pust; skal kontakte helse- og omsorgstjenesten for å testes. Personer smittekarantene skal oppholde seg egen bolig eller annet egnet oppholdssted hvor det er mulig unngå nærkontakt med andre; med enerom; eget bad og eget kjøkken eller matservering: Personer smittekarantene kan bare oppholde utenfor oppholdsstedet hvis de kan unngå nærkontakt med andre enn dem de bor sammen med De som erikarantene kan ikke være på en arbeidsplass der oaså andre oppholder sea oa skole eller etter seg\n",
      "{0}\n",
      "==================================================\n",
      "Observation 3727:\n",
      "Original Text (filtered_image_text): FLCCC FRONT LINE COVID-19 CRITICAL CARE ALLIANCE PREVENTION & TREATMENT PROTOCOLS FOR COVID-19 L L | A N c E Behavioral Prevention I-MASK+ PREVENTION & EARLY OUTPATIENT TREATMENT PROTOCOL FOR COVID-19 Page 1/? PREVENTION PROTOCOL Ivermectin Prevention for high risk individuals 0.2 mg/kg per dose (take with or after meals) one dose today; repeat after 48 hours then one dose weekly WEAR MASKS Post COVID-19 exposure prevention 0.2 mg/kg per dose (take with or after meals) one dose Must wear cloth; surgical, or today; repeat after 48 hours N95 mask [without valve) in Vitamin D3 1,000-3,000 IUlday all indoor spaces with non- Vitamin € 500-1,OO0mg twice day household persons Quercetin 250 mglday Must wear N9S mask Zinc 30-4Omglday out valve) during prolonged Melatonin 6mg before bedtime causes drowsiness) exposure to non-household persons in any confined, EARLY OUTPATIENT PROTOCOL' poorly ventilated area. Ivermectin' 0.2-0.4 mg/kg per dose (take with or after meals) one dose daily; take for 5 days or until recovered Use upper dose range IJ in regions with more aggressive variants; 2) trcatment started on or after day of symptoms or in pulmonary phase; or 3) multiple comorbidities risk factors Fluvoxamine SOmg twice daily for 10-14 days. Add to ivermectin if: 1) minimal response after 2 days of ivermectin; 2) in regions with more aggressive variants; 3) treatment Started on day Of symptoms @1 In pulmonary phase OI 4inumerous comorbidities risk factors, Avoid if patient is already on an SSRI . KEEP DISTANCE Nasopharyngeal Steamed essential oil inhalation times (i.e. vapo-rub) Sanitation andlor chlorhexidinelbenzydamine mouthwash gargles and Until the end of the Covid-19 Betadine nasal spray 2-3 times day crisis we recommend keep- Vitamin D3 4,000 IUlday ing minimum distance of Vitamin 500-1,OOOmg twice day approx 2m/6feet in public Quercetin 25Omg twice day from people who are not Zinc 1oOmglday from your own household Melatonin IOmg before bedtime (causes drowsiness) Aspirin 325mglday (unless contraindicated) Pulse Oximeter Monitoring of oxygen saturation is recommended {for instructions please see page of this file) For optional medicines and an overview of the developments in prevention and treatment COVID-19, please visit wwwflccc.netloptional-medicines The dosing may be updated as further scientific studies emerge . The safety @f ivermectin in pregnancy has not been established discussion of benefits vs. risks WASH HANDS with your provider required prior to use, particularly in the Ist trimester. To use household member is COVID-19 positive; Or you have prolonged exposure to COVID-19 We recommend after stay positivc patient without wcaring mask during and after outings For late phase hospitalized patients see the FLCCC's MATH- Hospital Treatment Protocol for COVID-19 on Wwvwflcccnet from home (shopping sub way etc ) thorough hand Please regard our disclaimer and further information on page of this document. cleaning (20-30 sec with soap) @r also to use hand flccc.net 2020-2021 FLCCC hance I-MASK Zclocol Verslon Apf 26,2021 disinfectant in between (with- after day\n",
      "{0}\n",
      "==================================================\n",
      "Observation 3778:\n",
      "Original Text (filtered_image_text): 19 32 Oaterenreinoyury 0yd6o a 204 [ Oalotvn sro derihost Fohadn ; Medjes Lr, 5i0a3s monge kon u norske Kunoar oeiodte scMn mest edieto Dinorko 12021 Folls Forteu Fudioro Tesla på salgstoppen etter rekordår forbilsalget Norge skiller seg ut fra resten av ifjoc Hcrskllkr Norre scsIra keno, 9 Oct Kun hene bbud mcd omkrın: 71000 kro Tusin a spille Innra QecI Arcisom nWr verden med sette bilsalgsre - DicktorioFv Oyvin Solhe rg akkuret lur bekynl korder; tross pandemi og Thorsento bidctilbudoz Cucr myc usikkcrhet 04i Ny modcller Snosei aak Id/ Nure &ar inanic JenanDotugua 2oeetorventesa bhorteenlJeke leveringsutfordringer. Hnnondaln Ken Ill uukrobnıkker Kjet Unr bra surn (joaacL Mange butoerkcr EU Mavct om 95 Akm for Yunskcuiecie oruisı nonuan ctonc oruichukci Lnec nyr bılcr har batydd mye. Dam Jeutc bllt Rcnnon konnalk Haneee {Heaft Seiea endelik  rekotden (ra piojusenlencbin nullulaloua - Talet kan codı blbaadz V Kın lor lenesl lustsla a 1966st   Mcd 176 276 ny€ Prr Pikr  Muicr Folrc Ocl cncytc cnllteehoncic cilcrirctc Cnn 2021 blir dct bcstc aict Hmw sonbiktrcuslienzuzl Iuoei lanocu derclbler tullieete enn 13 OuOsavhen hvvclorlk Noles hislone. Alnı lot hur de ourrcha Au obchunbikr Solhcte Fecrc konttollp s tale blut sencrt = mankr konltakicr ZO21her larke( nasicn ThorCL orlndekscmedtrem nsenhlnukmohrikl airsom [MW-cr/ Morve som /a1 Juudilcoit Joqlsc (ckond Jgensyo Llken Koiingi Ficricon Aljoculcicn W dissc bllere ViW Statistikk fta OpplsninosTader Jdministrerenkdireklorillarak kvert {jennoin 2022, Ien O Oueygiihaken OFViyreibluu Ubulrckord aenico(celorbuloschkarlg DcI Bił Ox ceyrii hnarckk omhk Elblandekn schvsgt den hvy  Noncsstorsiohllrnooror mof utzanespunkt for ncste (5. colenoensinlleailsavdc Msikgiroii Colbafln Klt mcn Yilner ~ulidik Wu Aen bllene hadde kun ckcktriek udunallen ohaleblndustrien Dohendis Elbll-rekord drittPatoppblant merkenenins nsIkkcninskmsldcsnnn ndn blehtoutied eic Oyf Ilybudrckord Jminsangytkaioglr Mcj ji IMorde 20 000] cksMpiOfci bade Ogcaladbarchybreratterckord Vin Manius Teencbyinfor Saanat Komnmgtcnuodclyoranuhn  12021, mcd Mnafkcaindcl sJonsahtckiori BMiw Ocorenoicra7oai hneste alletnalh, Model SLs1- Onlt 20 p(useOlDaiuled Luoposunimerlevlac[ 202l Dcvnchlevinnctcnhanailebal [cucncniocKnapon Piuecnicilc Il BMWs clbilcr 14 @K 410 7 #ouclkeruvddrs UuOtler loruch mncllom hyba-, bensin Koncrdimanememodd Eiici ulallee Ioppy vgcacibuci Coconl Uucogioicnghr aer Ilcrkcrtatistikkcn Malie Vulky 2022huar miltenelor Ironlar Foraneienocn Koin- Waen norgeanlcuandgapu OlneCLddaghydilocinal cilef mcr Mlerccdes mcdilci nycckk 202L Mcd Desien Lzooo atrcgicrinccn strammct Inn vckt madclker SomfokoeFOE (Ckisticnnk{ Vaiksuafln Itacbrakci slutebloncoicleiKlyai mna lolecr opplal mcu F51 CeumoddoeiDiolenrarant noklcuc dcmpcr padcttc sal- dhilnummcr Surcnai hVknbak Douyc 2012 marioe Anlsprobleief oher BMW XJ plugın emhnhcicnonnn no 202 Nor uiee uh \"ehtgan\n",
      "{0}\n",
      "==================================================\n",
      "Observation 3912:\n",
      "Original Text (filtered_image_text): Supplementary Table Demographic and health characteristics of those with non-infected control group no SARS-CoV-2 reinfection, and SARS-Col_-2 reinfection Non-infected control No reinfection Reinfection Characteristic (N=5,334,729) (N=443,588) (N=40,947) Age (years)_mean (SD) 63.46 (16.56) 60.01 (15.82) 60.12 (15.54) Long-term care 39477 (0. 11666 (2.63 2768 (6 BMI, mean 29.93 (5.33 31.01 (6.05) 30.95 (6.19) Immunocompromised status 36569 (2.56) 19474 (4. 3206 Cerebrovascular disease 297678 (5 34689 4459 (10.89 Cancer, N(% 112029 4062 1802 Anxiety 507333 (9. 66893 (15 8890 (21 Chronic kidney disease 432647 (8. 9194 6302 Cardiovascular disease N (% 770868 (14 81620 (18 9819 Dementia 96318 (3 25950 (5 3902 sion, N 504132 67558 (15. 8460 (20.66 Diabetes mellitus type 2, N 331015 (24 141371 (31.87 14802 3615) lisease 669508 (12.55) 76741 (17.3) 9201 (22.47 Peripheral artery disease N (% 71485 9315 (2 1) 1368 (3.34) eceioi seasonatMnenza vaccine TTTtne Z 2073076 (38.86) 216604 (48.83 24626 (60.14) Numbe of inpatient visits mean 0.13 (0.61) 0.34 (1.18) 82 (2.06) Numbe of outpatient visits mean 2.52 (1.54) 3.47 (1.6) 4.17 (1.73) Number of blood chemistry panels mean (SD 2.7 (4.33) 4.7 (7.38) 8.2 (12.88) Number of unique medications mean (SDI 03 (8.21) 12.58 (9.63) 16 (11.18) No vaccination 3262719 (61.16) 275690 (62.15) 35657 (87.08) One vaccination 376098 37128 (8. 552 (3 Two vaccinations 1177908 93508 (21.08 3263 (7.97 Three or more vaccinations 518002 (9.71) 37261 (8.4 475 (1.16) Averag hospital bed capacity* mean SDI 0.42 (0.14) 0.42 (0.14) 0.42 (0.14) Total bed capacity* mean 466.25 (299.06) 473.62 (301.26) 491.82 (304.64) Hospitalization during acute phase of first NA 39036 ( 8.8 ) 7280 ( 17.78 ) infection, Depress Lung\n",
      "{0}\n",
      "==================================================\n"
     ]
    }
   ],
   "source": [
    "# Find rows where image_text_features is NA\n",
    "failed_rows = df[df[\"image_text_features\"].isna()]\n",
    "\n",
    "# Inspect the filtered_image_text for these rows\n",
    "for index, row in failed_rows.iterrows():\n",
    "    print(f\"Observation {index}:\")\n",
    "    print(f\"Original Text (filtered_image_text): {row['filtered_image_text']}\")\n",
    "    print({row['label']})\n",
    "    print(\"=\" * 50)  # Separator for readability"
   ]
  },
  {
   "cell_type": "code",
   "execution_count": 22,
   "metadata": {},
   "outputs": [
    {
     "name": "stderr",
     "output_type": "stream",
     "text": [
      "c:\\Users\\sirifris\\.conda\\envs\\poli_reco\\lib\\site-packages\\PIL\\Image.py:1054: UserWarning: Palette images with Transparency expressed in bytes should be converted to RGBA images\n",
      "  warnings.warn(\n"
     ]
    }
   ],
   "source": [
    "# Create the different feature sets\n",
    "df[\"text_features\"] = df[\"tweet\"].apply(get_text_features)\n",
    "# df[\"image_text_features\"] = df[\"filtered_image_text\"].apply(get_text_features)\n",
    "df[\"image_features\"] = df[\"image_path_image_filename_image_1\"].apply(get_image_features)"
   ]
  },
  {
   "cell_type": "code",
   "execution_count": 23,
   "metadata": {},
   "outputs": [
    {
     "name": "stdout",
     "output_type": "stream",
     "text": [
      "(3937,)\n",
      "(3937,)\n",
      "(3937,)\n"
     ]
    }
   ],
   "source": [
    "print(df[\"text_features\"].shape)\n",
    "print(df[\"image_text_features\"].shape)\n",
    "print(df[\"image_features\"].shape)"
   ]
  },
  {
   "cell_type": "code",
   "execution_count": 24,
   "metadata": {},
   "outputs": [
    {
     "name": "stdout",
     "output_type": "stream",
     "text": [
      "tweet                                   0\n",
      "label                                   0\n",
      "id                                      0\n",
      "date                                    1\n",
      "image_path_image_filename_image_1       0\n",
      "image_path_image_filename_image_2    3640\n",
      "image_path_image_filename_image_3    3815\n",
      "image_path_image_filename_image_4    3859\n",
      "image_text                              0\n",
      "filtered_image_text                     0\n",
      "image_text_features                    32\n",
      "text_features                           0\n",
      "image_features                          0\n",
      "dtype: int64\n"
     ]
    }
   ],
   "source": [
    "print(df.isnull().sum())"
   ]
  },
  {
   "cell_type": "code",
   "execution_count": 84,
   "metadata": {},
   "outputs": [],
   "source": [
    "# Find a representative feature vector from rows where \"image_text\" is an empty string\n",
    "empty_vector_example = df.loc[df[\"image_text\"] == \"\", \"image_text_features\"].dropna().values\n",
    "\n",
    "if len(empty_vector_example) > 0:\n",
    "    empty_vector_example = empty_vector_example[0]  # Take the first available vector\n",
    "    # Assign the vector to all NAs in \"image_text_features\"\n",
    "    df.loc[df[\"image_text_features\"].isna(), \"image_text_features\"] = df.loc[df[\"image_text_features\"].isna(), \"image_text_features\"].apply(lambda _: empty_vector_example)"
   ]
  },
  {
   "cell_type": "code",
   "execution_count": 25,
   "metadata": {},
   "outputs": [
    {
     "name": "stdout",
     "output_type": "stream",
     "text": [
      "0    [0.0070521524, 0.09996615, 0.06716276, -0.1244...\n",
      "1    [-0.0023984693, 0.08590933, -0.054364007, 0.12...\n",
      "2    [0.26396376, -0.04853261, -0.06528268, -0.1353...\n",
      "3    [-0.01885866, -0.05700396, -0.13053499, -0.168...\n",
      "4    [-0.0109979035, 0.032760814, -0.24700762, -0.0...\n",
      "5    [-0.017980304, 0.034670442, -0.059337832, 0.00...\n",
      "6    [0.05160245, 0.02143021, -0.057980604, 0.03006...\n",
      "7    [0.05160245, 0.02143021, -0.057980604, 0.03006...\n",
      "8    [0.05160245, 0.02143021, -0.057980604, 0.03006...\n",
      "9    [0.21786541, -0.005461399, -0.16227847, -0.005...\n",
      "Name: image_text_features, dtype: object\n"
     ]
    }
   ],
   "source": [
    "print(df[\"image_text_features\"].head(10))"
   ]
  },
  {
   "cell_type": "code",
   "execution_count": 86,
   "metadata": {},
   "outputs": [
    {
     "name": "stdout",
     "output_type": "stream",
     "text": [
      "tweet                                   0\n",
      "label                                   0\n",
      "id                                      0\n",
      "date                                    0\n",
      "image_path_image_filename_image_1       0\n",
      "image_path_image_filename_image_2    2018\n",
      "image_path_image_filename_image_3    2108\n",
      "image_path_image_filename_image_4    2132\n",
      "image_text                              0\n",
      "text_features                           0\n",
      "image_text_features                     0\n",
      "image_features                          0\n",
      "intra_text_euclidean                    0\n",
      "filtered_image_text                     0\n",
      "dtype: int64\n"
     ]
    }
   ],
   "source": [
    "print(df.isnull().sum())"
   ]
  },
  {
   "cell_type": "code",
   "execution_count": 26,
   "metadata": {},
   "outputs": [],
   "source": [
    "df.to_pickle(\"E:/covid_features_v2.pkl\")\n",
    "# df = pd.read_pickle(\"E:/covid_features.pkl\")"
   ]
  },
  {
   "cell_type": "markdown",
   "metadata": {},
   "source": [
    "## Intramodal as Euclidean distance"
   ]
  },
  {
   "cell_type": "code",
   "execution_count": 18,
   "metadata": {},
   "outputs": [
    {
     "ename": "AttributeError",
     "evalue": "'NoneType' object has no attribute 'reshape'",
     "output_type": "error",
     "traceback": [
      "\u001b[1;31m---------------------------------------------------------------------------\u001b[0m",
      "\u001b[1;31mAttributeError\u001b[0m                            Traceback (most recent call last)",
      "Cell \u001b[1;32mIn[18], line 9\u001b[0m\n\u001b[0;32m      6\u001b[0m     \u001b[38;5;28;01mreturn\u001b[39;00m np\u001b[38;5;241m.\u001b[39mmean(distances)\n\u001b[0;32m      8\u001b[0m df[\u001b[38;5;124m\"\u001b[39m\u001b[38;5;124mintra_text_euclidean\u001b[39m\u001b[38;5;124m\"\u001b[39m] \u001b[38;5;241m=\u001b[39m df[\u001b[38;5;124m\"\u001b[39m\u001b[38;5;124mtext_features\u001b[39m\u001b[38;5;124m\"\u001b[39m]\u001b[38;5;241m.\u001b[39mapply(mean_pairwise_distance)\n\u001b[1;32m----> 9\u001b[0m df[\u001b[38;5;124m\"\u001b[39m\u001b[38;5;124mintra_image_text_euclidean\u001b[39m\u001b[38;5;124m\"\u001b[39m] \u001b[38;5;241m=\u001b[39m \u001b[43mdf\u001b[49m\u001b[43m[\u001b[49m\u001b[38;5;124;43m\"\u001b[39;49m\u001b[38;5;124;43mimage_text_features\u001b[39;49m\u001b[38;5;124;43m\"\u001b[39;49m\u001b[43m]\u001b[49m\u001b[38;5;241;43m.\u001b[39;49m\u001b[43mapply\u001b[49m\u001b[43m(\u001b[49m\u001b[43mmean_pairwise_distance\u001b[49m\u001b[43m)\u001b[49m\n\u001b[0;32m     10\u001b[0m df[\u001b[38;5;124m\"\u001b[39m\u001b[38;5;124mintra_image_euclidean\u001b[39m\u001b[38;5;124m\"\u001b[39m] \u001b[38;5;241m=\u001b[39m df[\u001b[38;5;124m\"\u001b[39m\u001b[38;5;124mimage_features\u001b[39m\u001b[38;5;124m\"\u001b[39m]\u001b[38;5;241m.\u001b[39mapply(mean_pairwise_distance)\n",
      "File \u001b[1;32mc:\\Users\\sirifris\\.conda\\envs\\poli_reco\\lib\\site-packages\\pandas\\core\\series.py:4924\u001b[0m, in \u001b[0;36mSeries.apply\u001b[1;34m(self, func, convert_dtype, args, by_row, **kwargs)\u001b[0m\n\u001b[0;32m   4789\u001b[0m \u001b[38;5;28;01mdef\u001b[39;00m \u001b[38;5;21mapply\u001b[39m(\n\u001b[0;32m   4790\u001b[0m     \u001b[38;5;28mself\u001b[39m,\n\u001b[0;32m   4791\u001b[0m     func: AggFuncType,\n\u001b[1;32m   (...)\u001b[0m\n\u001b[0;32m   4796\u001b[0m     \u001b[38;5;241m*\u001b[39m\u001b[38;5;241m*\u001b[39mkwargs,\n\u001b[0;32m   4797\u001b[0m ) \u001b[38;5;241m-\u001b[39m\u001b[38;5;241m>\u001b[39m DataFrame \u001b[38;5;241m|\u001b[39m Series:\n\u001b[0;32m   4798\u001b[0m \u001b[38;5;250m    \u001b[39m\u001b[38;5;124;03m\"\"\"\u001b[39;00m\n\u001b[0;32m   4799\u001b[0m \u001b[38;5;124;03m    Invoke function on values of Series.\u001b[39;00m\n\u001b[0;32m   4800\u001b[0m \n\u001b[1;32m   (...)\u001b[0m\n\u001b[0;32m   4915\u001b[0m \u001b[38;5;124;03m    dtype: float64\u001b[39;00m\n\u001b[0;32m   4916\u001b[0m \u001b[38;5;124;03m    \"\"\"\u001b[39;00m\n\u001b[0;32m   4917\u001b[0m     \u001b[38;5;28;01mreturn\u001b[39;00m \u001b[43mSeriesApply\u001b[49m\u001b[43m(\u001b[49m\n\u001b[0;32m   4918\u001b[0m \u001b[43m        \u001b[49m\u001b[38;5;28;43mself\u001b[39;49m\u001b[43m,\u001b[49m\n\u001b[0;32m   4919\u001b[0m \u001b[43m        \u001b[49m\u001b[43mfunc\u001b[49m\u001b[43m,\u001b[49m\n\u001b[0;32m   4920\u001b[0m \u001b[43m        \u001b[49m\u001b[43mconvert_dtype\u001b[49m\u001b[38;5;241;43m=\u001b[39;49m\u001b[43mconvert_dtype\u001b[49m\u001b[43m,\u001b[49m\n\u001b[0;32m   4921\u001b[0m \u001b[43m        \u001b[49m\u001b[43mby_row\u001b[49m\u001b[38;5;241;43m=\u001b[39;49m\u001b[43mby_row\u001b[49m\u001b[43m,\u001b[49m\n\u001b[0;32m   4922\u001b[0m \u001b[43m        \u001b[49m\u001b[43margs\u001b[49m\u001b[38;5;241;43m=\u001b[39;49m\u001b[43margs\u001b[49m\u001b[43m,\u001b[49m\n\u001b[0;32m   4923\u001b[0m \u001b[43m        \u001b[49m\u001b[43mkwargs\u001b[49m\u001b[38;5;241;43m=\u001b[39;49m\u001b[43mkwargs\u001b[49m\u001b[43m,\u001b[49m\n\u001b[1;32m-> 4924\u001b[0m \u001b[43m    \u001b[49m\u001b[43m)\u001b[49m\u001b[38;5;241;43m.\u001b[39;49m\u001b[43mapply\u001b[49m\u001b[43m(\u001b[49m\u001b[43m)\u001b[49m\n",
      "File \u001b[1;32mc:\\Users\\sirifris\\.conda\\envs\\poli_reco\\lib\\site-packages\\pandas\\core\\apply.py:1427\u001b[0m, in \u001b[0;36mSeriesApply.apply\u001b[1;34m(self)\u001b[0m\n\u001b[0;32m   1424\u001b[0m     \u001b[38;5;28;01mreturn\u001b[39;00m \u001b[38;5;28mself\u001b[39m\u001b[38;5;241m.\u001b[39mapply_compat()\n\u001b[0;32m   1426\u001b[0m \u001b[38;5;66;03m# self.func is Callable\u001b[39;00m\n\u001b[1;32m-> 1427\u001b[0m \u001b[38;5;28;01mreturn\u001b[39;00m \u001b[38;5;28;43mself\u001b[39;49m\u001b[38;5;241;43m.\u001b[39;49m\u001b[43mapply_standard\u001b[49m\u001b[43m(\u001b[49m\u001b[43m)\u001b[49m\n",
      "File \u001b[1;32mc:\\Users\\sirifris\\.conda\\envs\\poli_reco\\lib\\site-packages\\pandas\\core\\apply.py:1507\u001b[0m, in \u001b[0;36mSeriesApply.apply_standard\u001b[1;34m(self)\u001b[0m\n\u001b[0;32m   1501\u001b[0m \u001b[38;5;66;03m# row-wise access\u001b[39;00m\n\u001b[0;32m   1502\u001b[0m \u001b[38;5;66;03m# apply doesn't have a `na_action` keyword and for backward compat reasons\u001b[39;00m\n\u001b[0;32m   1503\u001b[0m \u001b[38;5;66;03m# we need to give `na_action=\"ignore\"` for categorical data.\u001b[39;00m\n\u001b[0;32m   1504\u001b[0m \u001b[38;5;66;03m# TODO: remove the `na_action=\"ignore\"` when that default has been changed in\u001b[39;00m\n\u001b[0;32m   1505\u001b[0m \u001b[38;5;66;03m#  Categorical (GH51645).\u001b[39;00m\n\u001b[0;32m   1506\u001b[0m action \u001b[38;5;241m=\u001b[39m \u001b[38;5;124m\"\u001b[39m\u001b[38;5;124mignore\u001b[39m\u001b[38;5;124m\"\u001b[39m \u001b[38;5;28;01mif\u001b[39;00m \u001b[38;5;28misinstance\u001b[39m(obj\u001b[38;5;241m.\u001b[39mdtype, CategoricalDtype) \u001b[38;5;28;01melse\u001b[39;00m \u001b[38;5;28;01mNone\u001b[39;00m\n\u001b[1;32m-> 1507\u001b[0m mapped \u001b[38;5;241m=\u001b[39m \u001b[43mobj\u001b[49m\u001b[38;5;241;43m.\u001b[39;49m\u001b[43m_map_values\u001b[49m\u001b[43m(\u001b[49m\n\u001b[0;32m   1508\u001b[0m \u001b[43m    \u001b[49m\u001b[43mmapper\u001b[49m\u001b[38;5;241;43m=\u001b[39;49m\u001b[43mcurried\u001b[49m\u001b[43m,\u001b[49m\u001b[43m \u001b[49m\u001b[43mna_action\u001b[49m\u001b[38;5;241;43m=\u001b[39;49m\u001b[43maction\u001b[49m\u001b[43m,\u001b[49m\u001b[43m \u001b[49m\u001b[43mconvert\u001b[49m\u001b[38;5;241;43m=\u001b[39;49m\u001b[38;5;28;43mself\u001b[39;49m\u001b[38;5;241;43m.\u001b[39;49m\u001b[43mconvert_dtype\u001b[49m\n\u001b[0;32m   1509\u001b[0m \u001b[43m\u001b[49m\u001b[43m)\u001b[49m\n\u001b[0;32m   1511\u001b[0m \u001b[38;5;28;01mif\u001b[39;00m \u001b[38;5;28mlen\u001b[39m(mapped) \u001b[38;5;129;01mand\u001b[39;00m \u001b[38;5;28misinstance\u001b[39m(mapped[\u001b[38;5;241m0\u001b[39m], ABCSeries):\n\u001b[0;32m   1512\u001b[0m     \u001b[38;5;66;03m# GH#43986 Need to do list(mapped) in order to get treated as nested\u001b[39;00m\n\u001b[0;32m   1513\u001b[0m     \u001b[38;5;66;03m#  See also GH#25959 regarding EA support\u001b[39;00m\n\u001b[0;32m   1514\u001b[0m     \u001b[38;5;28;01mreturn\u001b[39;00m obj\u001b[38;5;241m.\u001b[39m_constructor_expanddim(\u001b[38;5;28mlist\u001b[39m(mapped), index\u001b[38;5;241m=\u001b[39mobj\u001b[38;5;241m.\u001b[39mindex)\n",
      "File \u001b[1;32mc:\\Users\\sirifris\\.conda\\envs\\poli_reco\\lib\\site-packages\\pandas\\core\\base.py:921\u001b[0m, in \u001b[0;36mIndexOpsMixin._map_values\u001b[1;34m(self, mapper, na_action, convert)\u001b[0m\n\u001b[0;32m    918\u001b[0m \u001b[38;5;28;01mif\u001b[39;00m \u001b[38;5;28misinstance\u001b[39m(arr, ExtensionArray):\n\u001b[0;32m    919\u001b[0m     \u001b[38;5;28;01mreturn\u001b[39;00m arr\u001b[38;5;241m.\u001b[39mmap(mapper, na_action\u001b[38;5;241m=\u001b[39mna_action)\n\u001b[1;32m--> 921\u001b[0m \u001b[38;5;28;01mreturn\u001b[39;00m \u001b[43malgorithms\u001b[49m\u001b[38;5;241;43m.\u001b[39;49m\u001b[43mmap_array\u001b[49m\u001b[43m(\u001b[49m\u001b[43marr\u001b[49m\u001b[43m,\u001b[49m\u001b[43m \u001b[49m\u001b[43mmapper\u001b[49m\u001b[43m,\u001b[49m\u001b[43m \u001b[49m\u001b[43mna_action\u001b[49m\u001b[38;5;241;43m=\u001b[39;49m\u001b[43mna_action\u001b[49m\u001b[43m,\u001b[49m\u001b[43m \u001b[49m\u001b[43mconvert\u001b[49m\u001b[38;5;241;43m=\u001b[39;49m\u001b[43mconvert\u001b[49m\u001b[43m)\u001b[49m\n",
      "File \u001b[1;32mc:\\Users\\sirifris\\.conda\\envs\\poli_reco\\lib\\site-packages\\pandas\\core\\algorithms.py:1743\u001b[0m, in \u001b[0;36mmap_array\u001b[1;34m(arr, mapper, na_action, convert)\u001b[0m\n\u001b[0;32m   1741\u001b[0m values \u001b[38;5;241m=\u001b[39m arr\u001b[38;5;241m.\u001b[39mastype(\u001b[38;5;28mobject\u001b[39m, copy\u001b[38;5;241m=\u001b[39m\u001b[38;5;28;01mFalse\u001b[39;00m)\n\u001b[0;32m   1742\u001b[0m \u001b[38;5;28;01mif\u001b[39;00m na_action \u001b[38;5;129;01mis\u001b[39;00m \u001b[38;5;28;01mNone\u001b[39;00m:\n\u001b[1;32m-> 1743\u001b[0m     \u001b[38;5;28;01mreturn\u001b[39;00m \u001b[43mlib\u001b[49m\u001b[38;5;241;43m.\u001b[39;49m\u001b[43mmap_infer\u001b[49m\u001b[43m(\u001b[49m\u001b[43mvalues\u001b[49m\u001b[43m,\u001b[49m\u001b[43m \u001b[49m\u001b[43mmapper\u001b[49m\u001b[43m,\u001b[49m\u001b[43m \u001b[49m\u001b[43mconvert\u001b[49m\u001b[38;5;241;43m=\u001b[39;49m\u001b[43mconvert\u001b[49m\u001b[43m)\u001b[49m\n\u001b[0;32m   1744\u001b[0m \u001b[38;5;28;01melse\u001b[39;00m:\n\u001b[0;32m   1745\u001b[0m     \u001b[38;5;28;01mreturn\u001b[39;00m lib\u001b[38;5;241m.\u001b[39mmap_infer_mask(\n\u001b[0;32m   1746\u001b[0m         values, mapper, mask\u001b[38;5;241m=\u001b[39misna(values)\u001b[38;5;241m.\u001b[39mview(np\u001b[38;5;241m.\u001b[39muint8), convert\u001b[38;5;241m=\u001b[39mconvert\n\u001b[0;32m   1747\u001b[0m     )\n",
      "File \u001b[1;32mlib.pyx:2972\u001b[0m, in \u001b[0;36mpandas._libs.lib.map_infer\u001b[1;34m()\u001b[0m\n",
      "Cell \u001b[1;32mIn[18], line 5\u001b[0m, in \u001b[0;36mmean_pairwise_distance\u001b[1;34m(vector)\u001b[0m\n\u001b[0;32m      4\u001b[0m \u001b[38;5;28;01mdef\u001b[39;00m \u001b[38;5;21mmean_pairwise_distance\u001b[39m(vector):\n\u001b[1;32m----> 5\u001b[0m     distances \u001b[38;5;241m=\u001b[39m pdist(\u001b[43mvector\u001b[49m\u001b[38;5;241;43m.\u001b[39;49m\u001b[43mreshape\u001b[49m(\u001b[38;5;241m-\u001b[39m\u001b[38;5;241m1\u001b[39m, \u001b[38;5;241m1\u001b[39m), metric\u001b[38;5;241m=\u001b[39m\u001b[38;5;124m'\u001b[39m\u001b[38;5;124meuclidean\u001b[39m\u001b[38;5;124m'\u001b[39m)  \u001b[38;5;66;03m# Compute all pairwise distances\u001b[39;00m\n\u001b[0;32m      6\u001b[0m     \u001b[38;5;28;01mreturn\u001b[39;00m np\u001b[38;5;241m.\u001b[39mmean(distances)\n",
      "\u001b[1;31mAttributeError\u001b[0m: 'NoneType' object has no attribute 'reshape'"
     ]
    }
   ],
   "source": [
    "# Euclidean distance for intramodal incongruity:\n",
    "from scipy.spatial.distance import pdist, squareform\n",
    "\n",
    "def mean_pairwise_distance(vector):\n",
    "    distances = pdist(vector.reshape(-1, 1), metric='euclidean')  # Compute all pairwise distances\n",
    "    return np.mean(distances)\n",
    "\n",
    "df[\"intra_text_euclidean\"] = df[\"text_features\"].apply(mean_pairwise_distance)\n",
    "df[\"intra_image_text_euclidean\"] = df[\"image_text_features\"].apply(mean_pairwise_distance)\n",
    "df[\"intra_image_euclidean\"] = df[\"image_features\"].apply(mean_pairwise_distance)"
   ]
  },
  {
   "cell_type": "markdown",
   "metadata": {},
   "source": [
    "## Intermodal as cosine dissimilarity"
   ]
  },
  {
   "cell_type": "code",
   "execution_count": null,
   "metadata": {},
   "outputs": [],
   "source": [
    "from scipy.spatial.distance import cosine\n",
    "\n",
    "def inter_modal_cosine_dissimilarity(first_modality, second_modality):\n",
    "    return 1 - cosine(first_modality, second_modality)\n",
    "\n",
    "df[\"inter_t_i_cosine\"] = df.apply(lambda row: inter_modal_cosine_dissimilarity(row[\"text_features\"], row[\"image_features\"]), axis=1)\n",
    "df[\"inter_t_ti_cosine\"] = df.apply(lambda row: inter_modal_cosine_dissimilarity(row[\"text_features\"], row[\"image_text_features\"]), axis=1)\n",
    "df[\"inter_i_it_cosine\"] = df.apply(lambda row: inter_modal_cosine_dissimilarity(row[\"image_features\"], row[\"image_text_features\"]), axis=1)"
   ]
  },
  {
   "cell_type": "code",
   "execution_count": null,
   "metadata": {},
   "outputs": [],
   "source": []
  },
  {
   "cell_type": "code",
   "execution_count": null,
   "metadata": {},
   "outputs": [],
   "source": []
  }
 ],
 "metadata": {
  "kernelspec": {
   "display_name": "Python 3",
   "language": "python",
   "name": "python3"
  },
  "language_info": {
   "codemirror_mode": {
    "name": "ipython",
    "version": 3
   },
   "file_extension": ".py",
   "mimetype": "text/x-python",
   "name": "python",
   "nbconvert_exporter": "python",
   "pygments_lexer": "ipython3",
   "version": "3.10.16"
  }
 },
 "nbformat": 4,
 "nbformat_minor": 2
}
