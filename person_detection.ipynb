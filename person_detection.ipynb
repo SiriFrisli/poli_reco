{
 "cells": [
  {
   "cell_type": "markdown",
   "metadata": {},
   "source": [
    "## Code for face detection"
   ]
  },
  {
   "cell_type": "code",
   "execution_count": 7,
   "metadata": {},
   "outputs": [],
   "source": [
    "from ultralytics import YOLO\n",
    "import cv2\n",
    "import os\n",
    "from PIL import Image\n",
    "import numpy as np"
   ]
  },
  {
   "cell_type": "code",
   "execution_count": 2,
   "metadata": {},
   "outputs": [
    {
     "name": "stdout",
     "output_type": "stream",
     "text": [
      "D:\\Data\\Images\\Covid\n"
     ]
    }
   ],
   "source": [
    "%cd \"D:\\\\Data\\\\Images\\\\Covid\""
   ]
  },
  {
   "cell_type": "code",
   "execution_count": 3,
   "metadata": {},
   "outputs": [
    {
     "data": {
      "text/plain": [
       "'D:\\\\Data\\\\Images\\\\Covid'"
      ]
     },
     "execution_count": 3,
     "metadata": {},
     "output_type": "execute_result"
    }
   ],
   "source": [
    "%pwd"
   ]
  },
  {
   "cell_type": "code",
   "execution_count": 12,
   "metadata": {},
   "outputs": [],
   "source": [
    "input_dir = \"images_2\"\n",
    "output_dir_detected = \"output_images_detected\"  # For images with detected persons\n",
    "output_dir_no_person = \"output_images_no_person_2\"  # For images without detected persons\n",
    "os.makedirs(output_dir_detected, exist_ok=True)\n",
    "os.makedirs(output_dir_no_person, exist_ok=True)"
   ]
  },
  {
   "cell_type": "code",
   "execution_count": 5,
   "metadata": {},
   "outputs": [],
   "source": [
    "# Load a pre-trained YOLO model\n",
    "# YOLOv8 model is used here; it can detect \"person\" as one of its classes\n",
    "model = YOLO(\"yolov8n.pt\")  # 'n' stands for Nano"
   ]
  },
  {
   "cell_type": "code",
   "execution_count": null,
   "metadata": {},
   "outputs": [],
   "source": [
    "# Process each image in the input directory\n",
    "for image_name in os.listdir(input_dir):\n",
    "    image_path = os.path.join(input_dir, image_name)\n",
    "    try:\n",
    "        # Load the image\n",
    "        image = cv2.imread(image_path)\n",
    "        if image is None:\n",
    "            print(f\"Skipping invalid image: {image_name}\")\n",
    "            continue\n",
    "\n",
    "        # Run object detection\n",
    "        results = model(image)\n",
    "        boxes = results[0].boxes\n",
    "\n",
    "        # Check if boxes are detected\n",
    "        if boxes is None or len(boxes) == 0:\n",
    "            output_path_no_person = os.path.join(output_dir_no_person, image_name)\n",
    "            Image.fromarray(cv2.cvtColor(image, cv2.COLOR_BGR2RGB)).save(output_path_no_person)\n",
    "            print(f\"No objects detected, saved to no-person folder: {image_name}\")\n",
    "            continue\n",
    "\n",
    "        # Extract detected classes\n",
    "        detected_classes = []\n",
    "        for box in boxes: \n",
    "            class_id = int(box.cls.item())\n",
    "            detected_classes.append(model.names[class_id]) # Map ID to class name\n",
    "\n",
    "        # Check if 'person' class is detected\n",
    "        # detected_classes = [result['name'] for result in results[0].boxes.data.to('cpu').numpy()]\n",
    "        if 'person' in detected_classes:\n",
    "            # Save the image to the detected folder\n",
    "            output_path_detected = os.path.join(output_dir_detected, image_name)\n",
    "            Image.fromarray(cv2.cvtColor(image, cv2.COLOR_BGR2RGB)).save(output_path_detected)\n",
    "            print(f\"Person detected, saved: {image_name}\")\n",
    "        else:\n",
    "            # Save the image to the no-person folder\n",
    "            output_path_no_person = os.path.join(output_dir_no_person, image_name)\n",
    "            Image.fromarray(cv2.cvtColor(image, cv2.COLOR_BGR2RGB)).save(output_path_no_person)\n",
    "            print(f\"No person detected, saved to no-person folder: {image_name}\")\n",
    "\n",
    "    except Exception as e:\n",
    "        print(f\"Error processing {image_name}: {e}\")\n",
    "\n",
    "print(\"Dataset cleaning complete.\")"
   ]
  },
  {
   "cell_type": "code",
   "execution_count": null,
   "metadata": {},
   "outputs": [],
   "source": []
  }
 ],
 "metadata": {
  "kernelspec": {
   "display_name": "poli_reco",
   "language": "python",
   "name": "python3"
  },
  "language_info": {
   "codemirror_mode": {
    "name": "ipython",
    "version": 3
   },
   "file_extension": ".py",
   "mimetype": "text/x-python",
   "name": "python",
   "nbconvert_exporter": "python",
   "pygments_lexer": "ipython3",
   "version": "3.12.8"
  }
 },
 "nbformat": 4,
 "nbformat_minor": 2
}
